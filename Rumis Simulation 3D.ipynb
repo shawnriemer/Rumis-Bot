{
 "cells": [
  {
   "cell_type": "code",
   "execution_count": 2,
   "id": "b4b357fa",
   "metadata": {},
   "outputs": [],
   "source": [
    "import pandas as pd\n",
    "import numpy as np\n",
    "import random"
   ]
  },
  {
   "cell_type": "code",
   "execution_count": null,
   "id": "f50277f5",
   "metadata": {},
   "outputs": [],
   "source": []
  },
  {
   "cell_type": "markdown",
   "id": "d977499f",
   "metadata": {},
   "source": [
    "# Grid"
   ]
  },
  {
   "cell_type": "code",
   "execution_count": 5,
   "id": "5250e9e1",
   "metadata": {},
   "outputs": [
    {
     "data": {
      "text/plain": [
       "array([[[0., 0., 0., 0., 0.],\n",
       "        [0., 0., 0., 0., 0.],\n",
       "        [0., 0., 0., 0., 0.],\n",
       "        [0., 0., 0., 0., 0.],\n",
       "        [0., 0., 0., 0., 0.]],\n",
       "\n",
       "       [[0., 0., 0., 0., 0.],\n",
       "        [0., 0., 0., 0., 0.],\n",
       "        [0., 0., 0., 0., 0.],\n",
       "        [0., 0., 0., 0., 0.],\n",
       "        [0., 0., 0., 0., 0.]]])"
      ]
     },
     "execution_count": 5,
     "metadata": {},
     "output_type": "execute_result"
    }
   ],
   "source": [
    "grid = np.zeros((2,5,5))\n",
    "grid"
   ]
  },
  {
   "cell_type": "markdown",
   "id": "ce14ac9b",
   "metadata": {},
   "source": [
    "# Pieces"
   ]
  },
  {
   "cell_type": "code",
   "execution_count": 148,
   "id": "516095a9",
   "metadata": {},
   "outputs": [],
   "source": [
    "# Player 1\n",
    "p1_4x1 = np.array([[[1,1,1,1]], [[0,0,0,0]]])\n",
    "p1_3x1 = np.array([[[1,1,1]], [[0,0,0]]])\n",
    "p1_2x1 = np.array([[[1,1]], [[0,0]]])\n",
    "p1_L = np.array([[[1,0,0], [1,1,1]], [[0,0,0],[0,0,0]]])\n",
    "p1_square = np.array([[[1,1],[1,1]], [[0,0],[0,0]]])\n",
    "p1_corner = np.array([[[1, 0],[1, 1]], [[0, 0],[0, 0]]])\n",
    "p1_pipe = np.array([[[0,1,0],[1,1,1]], [[0,0,0],[0,0,0]]])\n",
    "p1_bend = np.array([[[0,1,1],[1,1,0]], [[0,0,0],[0,0,0]]])\n",
    "\n",
    "p1_pieces = [\n",
    "    p1_4x1,\n",
    "    p1_3x1,\n",
    "    p1_2x1,\n",
    "    p1_L,\n",
    "    p1_square,\n",
    "    p1_corner,\n",
    "    p1_pipe,\n",
    "    p1_bend\n",
    "]\n",
    "\n",
    "# Player 2\n",
    "p2_4x1 = np.array([[[2,2,2,2]], [[0,0,0,0]]])\n",
    "p2_3x1 = np.array([[[2,2,2]], [[0,0,0]]])\n",
    "p2_2x1 = np.array([[[2,2]], [[0,0]]])\n",
    "p2_L = np.array([[[2,0,0], [2,2,2]], [[0,0,0],[0,0,0]]])\n",
    "p2_square = np.array([[[2,2],[2,2]], [[0,0],[0,0]]])\n",
    "p2_corner = np.array([[[2,0],[2,2]], [[0,0],[0,0]]])\n",
    "p2_pipe = np.array([[[0,2,0],[2,2,2]], [[0,0,0],[0,0,0]]])\n",
    "p2_bend = np.array([[[0,2,2],[2,2,0]], [[0,0,0],[0,0,0]]])\n",
    "\n",
    "p2_pieces = [\n",
    "    p2_4x1,\n",
    "    p2_3x1,\n",
    "    p2_2x1,\n",
    "    p2_L,\n",
    "    p2_square,\n",
    "    p2_corner,\n",
    "    p2_pipe,\n",
    "    p2_bend\n",
    "]"
   ]
  },
  {
   "cell_type": "markdown",
   "id": "bcb6484b",
   "metadata": {},
   "source": [
    "# Play"
   ]
  },
  {
   "cell_type": "code",
   "execution_count": 69,
   "id": "685eaea5",
   "metadata": {},
   "outputs": [
    {
     "data": {
      "text/plain": [
       "array([[[1, 1, 1]]])"
      ]
     },
     "execution_count": 69,
     "metadata": {},
     "output_type": "execute_result"
    }
   ],
   "source": [
    "t = np.array([[[1,1,1]]])\n",
    "t"
   ]
  },
  {
   "cell_type": "code",
   "execution_count": 126,
   "id": "418d09c6",
   "metadata": {},
   "outputs": [
    {
     "data": {
      "text/plain": [
       "array([[[1],\n",
       "        [1],\n",
       "        [1]],\n",
       "\n",
       "       [[0],\n",
       "        [0],\n",
       "        [0]]])"
      ]
     },
     "execution_count": 126,
     "metadata": {},
     "output_type": "execute_result"
    }
   ],
   "source": [
    "# t = np.array([[[1, 0],[1, 1]], [[0, 0],[0, 0]]])\n",
    "t = np.array([[[1,1,1]], [[0,0,0]]])\n",
    "k1 = random.randint(0,3)\n",
    "k2 = random.randint(0,3)\n",
    "\n",
    "np.rot90(np.rot90(t, k=k1, axes=(0,1)), k=k2, axes=(1,2))"
   ]
  },
  {
   "cell_type": "code",
   "execution_count": 113,
   "id": "dd799048",
   "metadata": {},
   "outputs": [
    {
     "data": {
      "text/plain": [
       "array([[1, 1, 1]])"
      ]
     },
     "execution_count": 113,
     "metadata": {},
     "output_type": "execute_result"
    }
   ],
   "source": [
    "t = np.array([[1,1,1]])\n",
    "k1 = random.randint(0,3)\n",
    "np.rot90(t, k=k1, axes=(0,1))"
   ]
  },
  {
   "cell_type": "code",
   "execution_count": null,
   "id": "5440f8e9",
   "metadata": {},
   "outputs": [],
   "source": []
  },
  {
   "cell_type": "code",
   "execution_count": 147,
   "id": "7fc60cf5",
   "metadata": {},
   "outputs": [
    {
     "data": {
      "text/plain": [
       "array([[[0, 0, 0, 0, 0],\n",
       "        [0, 1, 0, 0, 0],\n",
       "        [0, 0, 0, 0, 0],\n",
       "        [0, 0, 0, 0, 0],\n",
       "        [0, 0, 0, 0, 0]],\n",
       "\n",
       "       [[0, 0, 0, 0, 0],\n",
       "        [0, 1, 0, 0, 0],\n",
       "        [0, 1, 0, 0, 0],\n",
       "        [0, 0, 0, 0, 0],\n",
       "        [0, 0, 0, 0, 0]]])"
      ]
     },
     "execution_count": 147,
     "metadata": {},
     "output_type": "execute_result"
    }
   ],
   "source": [
    "t = np.array([[[1, 0],[1, 1]], [[0, 0],[0, 0]]])\n",
    "fill_out(orient(t))"
   ]
  },
  {
   "cell_type": "code",
   "execution_count": null,
   "id": "449b090f",
   "metadata": {},
   "outputs": [],
   "source": []
  },
  {
   "cell_type": "code",
   "execution_count": 152,
   "id": "1d4d008a",
   "metadata": {},
   "outputs": [],
   "source": [
    "def orient(p):\n",
    "    k1 = random.randint(0,3)\n",
    "    k2 = random.randint(0,3)\n",
    "    return np.rot90(np.rot90(p, k=k1, axes=(0,1)), k=k2, axes=(1,2))\n",
    "\n",
    "\n",
    "def fill_out(p):\n",
    "    stacks, rows, cols = p.shape\n",
    "\n",
    "    stack_max_start = 2-stacks\n",
    "    row_max_start = 5-rows\n",
    "    col_max_start = 5-cols\n",
    "\n",
    "    stack_start = random.randint(0, stack_max_start)\n",
    "    row_start = random.randint(0, row_max_start)\n",
    "    col_start = random.randint(0, col_max_start)\n",
    "    \n",
    "    stack_top_pad = stack_start\n",
    "    stack_bottom_pad = stack_max_start - stack_start\n",
    "    row_top_pad = row_start\n",
    "    row_bottom_pad = row_max_start - row_start\n",
    "    col_left_pad = col_start\n",
    "    col_right_pad = col_max_start - col_start\n",
    "\n",
    "    return np.pad(p, ((stack_top_pad,stack_bottom_pad), (row_top_pad,row_bottom_pad), (col_left_pad,col_right_pad)))\n",
    "\n",
    "\n",
    "def check_adjacent(grid, layer, player):\n",
    "    adjacent = np.zeros((5,5))\n",
    "    \n",
    "    for i, row in enumerate(grid):\n",
    "        for j, val in enumerate(row):\n",
    "            if val == player:\n",
    "                # 4 is hardcoded\n",
    "                if (j>0) and (grid[i, j-1] == 0):\n",
    "                    adjacent[i, j-1] = player\n",
    "                if (j<4)  and (grid[i, j+1]) == 0:\n",
    "                    adjacent[i, j+1] = player\n",
    "                if (i>0) and (grid[i-1, j]) == 0:\n",
    "                    adjacent[i-1, j] = player\n",
    "                if (i<4) and (grid[i+1, j]) == 0:\n",
    "                    adjacent[i+1, j] = player\n",
    "                    \n",
    "    adjacent_bool = False if (adjacent*layer).max() == 0 else True\n",
    "    return adjacent, adjacent_bool\n",
    "\n",
    "\n",
    "def play_move(piece_list, grid, player, start):\n",
    "    \n",
    "    attempt_counter = 0\n",
    "    \n",
    "    while attempt_counter < 1000:\n",
    "    \n",
    "        # Randomly choose a piece\n",
    "        piece_i = random.randint(0, len(piece_list)-1)\n",
    "        piece = piece_list[piece_i]\n",
    "\n",
    "        # Randomly rotate piece and place it's location\n",
    "        layer = fill_out(orient(piece))\n",
    "\n",
    "        # Check if it is a legal move\n",
    "        \n",
    "        # Are any spots already taken?\n",
    "        spot_bool = False\n",
    "        if (grid*layer).max() == 0:\n",
    "            spot_bool = True\n",
    "\n",
    "#         # Check if adjacent to an existing piece (unless it's the first turn)\n",
    "#         if (spot_bool is True) and (start is False):\n",
    "#             adjacent, adjacent_bool = check_adjacent(grid, layer, player)\n",
    "#         else:\n",
    "#             adjacent_bool = True\n",
    "#             adjacent = ''\n",
    "        \n",
    "        # Make that play if it is legal\n",
    "        if (spot_bool is True):# and (adjacent_bool is True):\n",
    "            grid+=layer\n",
    "            del piece_list[piece_i]\n",
    "            # print('Adjacent:\\n', adjacent, '\\n')\n",
    "            print(f'# of attempts: {attempt_counter}')\n",
    "            print(grid, '\\n')\n",
    "            return grid, piece_list\n",
    "        \n",
    "        # Keep track of attempts\n",
    "        attempt_counter+=1\n",
    "        if attempt_counter==1000:\n",
    "            print('Maxed out attempts\\n')\n",
    "            return grid, piece_list"
   ]
  },
  {
   "cell_type": "code",
   "execution_count": 153,
   "id": "516e2ca9",
   "metadata": {},
   "outputs": [
    {
     "name": "stdout",
     "output_type": "stream",
     "text": [
      "# of attempts: 0\n",
      "[[[0. 0. 0. 0. 0.]\n",
      "  [0. 0. 0. 0. 0.]\n",
      "  [0. 0. 0. 0. 0.]\n",
      "  [0. 0. 0. 0. 0.]\n",
      "  [0. 0. 0. 0. 0.]]\n",
      "\n",
      " [[0. 0. 0. 0. 0.]\n",
      "  [0. 0. 0. 1. 1.]\n",
      "  [0. 0. 0. 1. 1.]\n",
      "  [0. 0. 0. 0. 0.]\n",
      "  [0. 0. 0. 0. 0.]]] \n",
      "\n",
      "# of attempts: 1\n",
      "[[[0. 0. 0. 0. 2.]\n",
      "  [0. 0. 0. 0. 2.]\n",
      "  [0. 0. 0. 0. 2.]\n",
      "  [0. 0. 0. 0. 0.]\n",
      "  [0. 0. 0. 0. 0.]]\n",
      "\n",
      " [[0. 0. 0. 0. 2.]\n",
      "  [0. 0. 0. 1. 1.]\n",
      "  [0. 0. 0. 1. 1.]\n",
      "  [0. 0. 0. 0. 0.]\n",
      "  [0. 0. 0. 0. 0.]]] \n",
      "\n",
      "# of attempts: 1\n",
      "[[[0. 0. 0. 0. 2.]\n",
      "  [0. 0. 0. 0. 2.]\n",
      "  [0. 0. 0. 0. 2.]\n",
      "  [0. 0. 0. 0. 0.]\n",
      "  [0. 0. 1. 1. 1.]]\n",
      "\n",
      " [[0. 0. 0. 0. 2.]\n",
      "  [0. 0. 0. 1. 1.]\n",
      "  [0. 0. 0. 1. 1.]\n",
      "  [0. 0. 0. 0. 0.]\n",
      "  [0. 0. 0. 0. 0.]]] \n",
      "\n",
      "# of attempts: 0\n",
      "[[[0. 0. 0. 2. 2.]\n",
      "  [0. 0. 0. 2. 2.]\n",
      "  [0. 0. 0. 2. 2.]\n",
      "  [0. 0. 0. 2. 0.]\n",
      "  [0. 0. 1. 1. 1.]]\n",
      "\n",
      " [[0. 0. 0. 0. 2.]\n",
      "  [0. 0. 0. 1. 1.]\n",
      "  [0. 0. 0. 1. 1.]\n",
      "  [0. 0. 0. 0. 0.]\n",
      "  [0. 0. 0. 0. 0.]]] \n",
      "\n",
      "# of attempts: 1\n",
      "[[[0. 0. 0. 2. 2.]\n",
      "  [0. 1. 0. 2. 2.]\n",
      "  [0. 1. 0. 2. 2.]\n",
      "  [0. 1. 0. 2. 0.]\n",
      "  [0. 0. 1. 1. 1.]]\n",
      "\n",
      " [[0. 0. 0. 0. 2.]\n",
      "  [0. 0. 0. 1. 1.]\n",
      "  [0. 1. 0. 1. 1.]\n",
      "  [0. 0. 0. 0. 0.]\n",
      "  [0. 0. 0. 0. 0.]]] \n",
      "\n",
      "# of attempts: 9\n",
      "[[[0. 0. 0. 2. 2.]\n",
      "  [0. 1. 0. 2. 2.]\n",
      "  [0. 1. 0. 2. 2.]\n",
      "  [0. 1. 0. 2. 0.]\n",
      "  [0. 0. 1. 1. 1.]]\n",
      "\n",
      " [[0. 0. 0. 0. 2.]\n",
      "  [0. 0. 0. 1. 1.]\n",
      "  [0. 1. 0. 1. 1.]\n",
      "  [0. 0. 0. 0. 0.]\n",
      "  [0. 0. 2. 2. 2.]]] \n",
      "\n",
      "# of attempts: 0\n",
      "[[[0. 0. 0. 2. 2.]\n",
      "  [0. 1. 0. 2. 2.]\n",
      "  [0. 1. 0. 2. 2.]\n",
      "  [0. 1. 0. 2. 0.]\n",
      "  [0. 0. 1. 1. 1.]]\n",
      "\n",
      " [[1. 1. 0. 0. 2.]\n",
      "  [0. 1. 1. 1. 1.]\n",
      "  [0. 1. 0. 1. 1.]\n",
      "  [0. 0. 0. 0. 0.]\n",
      "  [0. 0. 2. 2. 2.]]] \n",
      "\n",
      "# of attempts: 1\n",
      "[[[0. 0. 0. 2. 2.]\n",
      "  [0. 1. 0. 2. 2.]\n",
      "  [0. 1. 2. 2. 2.]\n",
      "  [0. 1. 2. 2. 0.]\n",
      "  [0. 0. 1. 1. 1.]]\n",
      "\n",
      " [[1. 1. 0. 0. 2.]\n",
      "  [0. 1. 1. 1. 1.]\n",
      "  [0. 1. 0. 1. 1.]\n",
      "  [0. 0. 0. 0. 0.]\n",
      "  [0. 0. 2. 2. 2.]]] \n",
      "\n",
      "# of attempts: 0\n",
      "[[[0. 0. 0. 2. 2.]\n",
      "  [0. 1. 0. 2. 2.]\n",
      "  [0. 1. 2. 2. 2.]\n",
      "  [1. 1. 2. 2. 0.]\n",
      "  [1. 1. 1. 1. 1.]]\n",
      "\n",
      " [[1. 1. 0. 0. 2.]\n",
      "  [0. 1. 1. 1. 1.]\n",
      "  [0. 1. 0. 1. 1.]\n",
      "  [0. 0. 0. 0. 0.]\n",
      "  [0. 0. 2. 2. 2.]]] \n",
      "\n",
      "# of attempts: 2\n",
      "[[[0. 0. 0. 2. 2.]\n",
      "  [0. 1. 0. 2. 2.]\n",
      "  [0. 1. 2. 2. 2.]\n",
      "  [1. 1. 2. 2. 0.]\n",
      "  [1. 1. 1. 1. 1.]]\n",
      "\n",
      " [[1. 1. 0. 0. 2.]\n",
      "  [0. 1. 1. 1. 1.]\n",
      "  [0. 1. 2. 1. 1.]\n",
      "  [0. 2. 2. 0. 0.]\n",
      "  [0. 0. 2. 2. 2.]]] \n",
      "\n",
      "# of attempts: 24\n",
      "[[[0. 0. 0. 2. 2.]\n",
      "  [0. 1. 0. 2. 2.]\n",
      "  [0. 1. 2. 2. 2.]\n",
      "  [1. 1. 2. 2. 0.]\n",
      "  [1. 1. 1. 1. 1.]]\n",
      "\n",
      " [[1. 1. 0. 0. 2.]\n",
      "  [1. 1. 1. 1. 1.]\n",
      "  [1. 1. 2. 1. 1.]\n",
      "  [1. 2. 2. 0. 0.]\n",
      "  [1. 0. 2. 2. 2.]]] \n",
      "\n",
      "# of attempts: 198\n",
      "[[[0. 2. 2. 2. 2.]\n",
      "  [0. 1. 0. 2. 2.]\n",
      "  [0. 1. 2. 2. 2.]\n",
      "  [1. 1. 2. 2. 0.]\n",
      "  [1. 1. 1. 1. 1.]]\n",
      "\n",
      " [[1. 1. 2. 2. 2.]\n",
      "  [1. 1. 1. 1. 1.]\n",
      "  [1. 1. 2. 1. 1.]\n",
      "  [1. 2. 2. 0. 0.]\n",
      "  [1. 0. 2. 2. 2.]]] \n",
      "\n",
      "# of attempts: 108\n",
      "[[[0. 2. 2. 2. 2.]\n",
      "  [0. 1. 0. 2. 2.]\n",
      "  [0. 1. 2. 2. 2.]\n",
      "  [1. 1. 2. 2. 0.]\n",
      "  [1. 1. 1. 1. 1.]]\n",
      "\n",
      " [[1. 1. 2. 2. 2.]\n",
      "  [1. 1. 1. 1. 1.]\n",
      "  [1. 1. 2. 1. 1.]\n",
      "  [1. 2. 2. 1. 1.]\n",
      "  [1. 0. 2. 2. 2.]]] \n",
      "\n",
      "Maxed out attempts\n",
      "\n",
      "Maxed out attempts\n",
      "\n",
      "Maxed out attempts\n",
      "\n",
      "Maxed out attempts\n",
      "\n",
      "Maxed out attempts\n",
      "\n",
      "Maxed out attempts\n",
      "\n",
      "Maxed out attempts\n",
      "\n",
      "Maxed out attempts\n",
      "\n"
     ]
    }
   ],
   "source": [
    "i=0\n",
    "grid = np.zeros((2,5,5))\n",
    "p1_pieces = [p1_4x1, p1_3x1, p1_2x1, p1_L, p1_square, p1_corner, p1_pipe, p1_bend]\n",
    "p2_pieces = [p2_4x1, p2_3x1, p2_2x1, p2_L, p2_square, p2_corner, p2_pipe, p2_bend]\n",
    "\n",
    "while i<=20:\n",
    "    # Figure out whose turn it is and get their available pieces\n",
    "    piece_list = p1_pieces if i%2 == 0 else p2_pieces\n",
    "    player = 1 if i%2 == 0 else 2\n",
    "    \n",
    "    # Indicate if it's the player's first turn\n",
    "    start = True if i<=1 else False\n",
    "    \n",
    "    # Play a piece\n",
    "    if len(piece_list) > 0:\n",
    "        grid, piece_list = play_move(piece_list, grid, player, start)\n",
    "        \n",
    "    i+=1"
   ]
  },
  {
   "cell_type": "code",
   "execution_count": 51,
   "id": "075be09e",
   "metadata": {},
   "outputs": [
    {
     "data": {
      "text/plain": [
       "array([[0., 2., 1., 1., 1.],\n",
       "       [1., 2., 1., 1., 2.],\n",
       "       [1., 1., 1., 0., 2.],\n",
       "       [1., 1., 2., 2., 2.],\n",
       "       [1., 1., 2., 2., 2.]])"
      ]
     },
     "execution_count": 51,
     "metadata": {},
     "output_type": "execute_result"
    }
   ],
   "source": [
    "grid"
   ]
  },
  {
   "cell_type": "code",
   "execution_count": 53,
   "id": "f52abf13",
   "metadata": {},
   "outputs": [
    {
     "data": {
      "text/plain": [
       "array([[0, 1, 0, 0, 0],\n",
       "       [0, 1, 0, 0, 0],\n",
       "       [0, 1, 1, 0, 0],\n",
       "       [0, 0, 0, 0, 0],\n",
       "       [0, 0, 0, 0, 0]])"
      ]
     },
     "execution_count": 53,
     "metadata": {},
     "output_type": "execute_result"
    }
   ],
   "source": [
    "t = np.array([[0,1,0,0,0], [0,1,0,0,0], [0,1,1,0,0], [0,0,0,0,0], [0,0,0,0,0]])\n",
    "t"
   ]
  },
  {
   "cell_type": "code",
   "execution_count": 54,
   "id": "7c8806e1",
   "metadata": {},
   "outputs": [
    {
     "data": {
      "text/plain": [
       "array([0, 1, 0, 0, 0])"
      ]
     },
     "execution_count": 54,
     "metadata": {},
     "output_type": "execute_result"
    }
   ],
   "source": [
    "t[0]"
   ]
  },
  {
   "cell_type": "code",
   "execution_count": 76,
   "id": "11de476d",
   "metadata": {},
   "outputs": [],
   "source": [
    "adjacent = np.zeros((5,5))\n",
    "\n",
    "for i, row in enumerate(t):\n",
    "    for j, val in enumerate(row):\n",
    "        if val == 1:\n",
    "            # 4 is hardcoded\n",
    "            if (j>0) and (t[i, j-1] == 0):\n",
    "                adjacent[i, j-1] = 1\n",
    "            if (j<4)  and (t[i, j+1]) == 0:\n",
    "                adjacent[i, j+1] = 1\n",
    "            if (i>0) and (t[i-1, j]) == 0:\n",
    "                adjacent[i-1, j] = 1\n",
    "            if (i<4) and (t[i+1, j]) == 0:\n",
    "                adjacent[i+1, j] = 1"
   ]
  },
  {
   "cell_type": "code",
   "execution_count": 77,
   "id": "0b54805b",
   "metadata": {},
   "outputs": [
    {
     "data": {
      "text/plain": [
       "array([[1., 0., 1., 0., 0.],\n",
       "       [1., 0., 1., 0., 0.],\n",
       "       [1., 0., 0., 1., 0.],\n",
       "       [0., 1., 1., 0., 0.],\n",
       "       [0., 0., 0., 0., 0.]])"
      ]
     },
     "execution_count": 77,
     "metadata": {},
     "output_type": "execute_result"
    }
   ],
   "source": [
    "adjacent"
   ]
  },
  {
   "cell_type": "code",
   "execution_count": 90,
   "id": "8a47af96",
   "metadata": {},
   "outputs": [
    {
     "data": {
      "text/plain": [
       "2.0"
      ]
     },
     "execution_count": 90,
     "metadata": {},
     "output_type": "execute_result"
    }
   ],
   "source": [
    "grid.max()"
   ]
  },
  {
   "cell_type": "code",
   "execution_count": null,
   "id": "9b0feaae",
   "metadata": {},
   "outputs": [],
   "source": []
  },
  {
   "cell_type": "code",
   "execution_count": null,
   "id": "8231cac1",
   "metadata": {},
   "outputs": [],
   "source": []
  },
  {
   "cell_type": "code",
   "execution_count": null,
   "id": "bab38ea6",
   "metadata": {},
   "outputs": [],
   "source": []
  },
  {
   "cell_type": "code",
   "execution_count": 31,
   "id": "bfbd1d57",
   "metadata": {},
   "outputs": [
    {
     "name": "stdout",
     "output_type": "stream",
     "text": [
      "[[0. 0. 0. 0. 0.]\n",
      " [0. 0. 0. 0. 0.]\n",
      " [0. 0. 1. 0. 0.]\n",
      " [0. 0. 1. 1. 0.]\n",
      " [0. 0. 0. 1. 0.]] \n",
      "\n",
      "[[0. 0. 0. 0. 0.]\n",
      " [2. 0. 0. 0. 0.]\n",
      " [2. 2. 1. 0. 0.]\n",
      " [2. 0. 1. 1. 0.]\n",
      " [0. 0. 0. 1. 0.]] \n",
      "\n",
      "[[0. 0. 0. 0. 0.]\n",
      " [2. 0. 0. 0. 0.]\n",
      " [2. 2. 1. 0. 0.]\n",
      " [2. 0. 1. 1. 0.]\n",
      " [0. 0. 0. 1. 0.]] \n",
      "\n",
      "[[0. 0. 0. 0. 0.]\n",
      " [2. 0. 0. 2. 2.]\n",
      " [2. 2. 1. 2. 2.]\n",
      " [2. 0. 1. 1. 0.]\n",
      " [0. 0. 0. 1. 0.]] \n",
      "\n",
      "[[0. 0. 0. 0. 0.]\n",
      " [2. 0. 0. 2. 2.]\n",
      " [2. 2. 1. 2. 2.]\n",
      " [2. 0. 1. 1. 0.]\n",
      " [0. 0. 0. 1. 0.]] \n",
      "\n",
      "[[0. 0. 0. 0. 0.]\n",
      " [2. 0. 0. 2. 2.]\n",
      " [2. 2. 1. 2. 2.]\n",
      " [2. 0. 1. 1. 0.]\n",
      " [0. 0. 0. 1. 0.]] \n",
      "\n"
     ]
    }
   ],
   "source": [
    "i=0\n",
    "grid = np.zeros((5,5))\n",
    "possible_moves = []\n",
    "\n",
    "while i<=5:\n",
    "    # Figure out whose turn it is and get their available pieces\n",
    "    piece_list = p1_pieces if i%2 == 0 else p2_pieces\n",
    "    player = 1 if i%2 == 0 else 2\n",
    "    \n",
    "    # Randomly choose a piece\n",
    "    piece_i = random.randint(0, len(piece_list)-1)\n",
    "    piece = piece_list[piece_i]\n",
    "    \n",
    "    #print(piece)\n",
    "    \n",
    "    # Randomly rotate piece and place it's location\n",
    "    layer = fill_out(orient(piece))\n",
    "    \n",
    "    #print(layer, '\\n')\n",
    "    \n",
    "    # Check if it is a legal move\n",
    "    # Are any spots already taken?\n",
    "    if (grid*layer).max() == 0:\n",
    "        grid+=layer\n",
    "        \n",
    "    print(grid, '\\n')\n",
    "    \n",
    "    i+=1"
   ]
  },
  {
   "cell_type": "code",
   "execution_count": null,
   "id": "9a70cd9c",
   "metadata": {},
   "outputs": [],
   "source": []
  },
  {
   "cell_type": "code",
   "execution_count": 27,
   "id": "790d9bcf",
   "metadata": {},
   "outputs": [
    {
     "data": {
      "text/plain": [
       "array([[0., 0., 1., 1., 1.],\n",
       "       [0., 0., 0., 2., 2.],\n",
       "       [0., 0., 1., 2., 2.],\n",
       "       [0., 0., 1., 1., 0.],\n",
       "       [0., 0., 0., 0., 0.]])"
      ]
     },
     "execution_count": 27,
     "metadata": {},
     "output_type": "execute_result"
    }
   ],
   "source": [
    "grid"
   ]
  },
  {
   "cell_type": "code",
   "execution_count": 70,
   "id": "2d24e0fe",
   "metadata": {},
   "outputs": [
    {
     "data": {
      "text/plain": [
       "array([[0, 0, 0, 0, 0],\n",
       "       [0, 0, 1, 0, 0],\n",
       "       [0, 0, 1, 1, 0],\n",
       "       [0, 0, 0, 0, 0],\n",
       "       [0, 0, 0, 0, 0]])"
      ]
     },
     "execution_count": 70,
     "metadata": {},
     "output_type": "execute_result"
    }
   ],
   "source": [
    "grid = np.array([[0, 0, 0, 0, 0], [0, 0, 1, 0, 0], [0, 0, 1, 1, 0], [0, 0, 0, 0, 0], [0, 0, 0, 0, 0]])\n",
    "grid"
   ]
  },
  {
   "cell_type": "code",
   "execution_count": 71,
   "id": "5639c1fb",
   "metadata": {},
   "outputs": [
    {
     "data": {
      "text/plain": [
       "array([[0, 1, 0, 0, 0],\n",
       "       [0, 1, 1, 0, 0],\n",
       "       [0, 0, 1, 0, 0],\n",
       "       [0, 0, 0, 0, 0],\n",
       "       [0, 0, 0, 0, 0]])"
      ]
     },
     "execution_count": 71,
     "metadata": {},
     "output_type": "execute_result"
    }
   ],
   "source": [
    "p = np.array([[0, 1, 0, 0, 0], [0, 1, 1, 0, 0], [0, 0, 1, 0, 0], [0, 0, 0, 0, 0], [0, 0, 0, 0, 0]])\n",
    "p"
   ]
  },
  {
   "cell_type": "code",
   "execution_count": 75,
   "id": "600ee3b8",
   "metadata": {},
   "outputs": [
    {
     "data": {
      "text/plain": [
       "array([[0, 1, 0, 0, 0],\n",
       "       [0, 1, 2, 0, 0],\n",
       "       [0, 0, 2, 1, 0],\n",
       "       [0, 0, 0, 0, 0],\n",
       "       [0, 0, 0, 0, 0]])"
      ]
     },
     "execution_count": 75,
     "metadata": {},
     "output_type": "execute_result"
    }
   ],
   "source": [
    "res = grid+p\n",
    "res"
   ]
  },
  {
   "cell_type": "code",
   "execution_count": 76,
   "id": "e6c7625f",
   "metadata": {},
   "outputs": [
    {
     "data": {
      "text/plain": [
       "2"
      ]
     },
     "execution_count": 76,
     "metadata": {},
     "output_type": "execute_result"
    }
   ],
   "source": [
    "res.max()"
   ]
  },
  {
   "cell_type": "code",
   "execution_count": 83,
   "id": "75754ed5",
   "metadata": {},
   "outputs": [
    {
     "data": {
      "text/plain": [
       "{0, 1, 2}"
      ]
     },
     "execution_count": 83,
     "metadata": {},
     "output_type": "execute_result"
    }
   ],
   "source": [
    "set(list(res.flatten()))"
   ]
  },
  {
   "cell_type": "code",
   "execution_count": 84,
   "id": "f8a1dca8",
   "metadata": {},
   "outputs": [
    {
     "data": {
      "text/plain": [
       "array([[0, 1, 0, 0, 0],\n",
       "       [0, 1, 2, 0, 0],\n",
       "       [0, 0, 2, 1, 0],\n",
       "       [0, 0, 0, 0, 0],\n",
       "       [0, 0, 0, 0, 0]])"
      ]
     },
     "execution_count": 84,
     "metadata": {},
     "output_type": "execute_result"
    }
   ],
   "source": [
    "res"
   ]
  },
  {
   "cell_type": "code",
   "execution_count": null,
   "id": "75eb9f89",
   "metadata": {},
   "outputs": [],
   "source": []
  },
  {
   "cell_type": "code",
   "execution_count": 18,
   "id": "1c5e8ca4",
   "metadata": {},
   "outputs": [
    {
     "data": {
      "text/plain": [
       "{2}"
      ]
     },
     "execution_count": 18,
     "metadata": {},
     "output_type": "execute_result"
    }
   ],
   "source": [
    "{0,1,2,3}.intersection({2})"
   ]
  },
  {
   "cell_type": "code",
   "execution_count": null,
   "id": "2a5c9d84",
   "metadata": {},
   "outputs": [],
   "source": []
  },
  {
   "cell_type": "code",
   "execution_count": null,
   "id": "31590ec3",
   "metadata": {},
   "outputs": [],
   "source": []
  },
  {
   "cell_type": "code",
   "execution_count": 172,
   "id": "90fa1967",
   "metadata": {},
   "outputs": [],
   "source": [
    "def orient(p):\n",
    "    k = random.randint(1,4)\n",
    "    return np.rot90(p, k=k)\n",
    "\n",
    "\n",
    "def fill_out(p):\n",
    "    rows, cols = p.shape\n",
    "\n",
    "    row_max_start = 5-rows\n",
    "    col_max_start = 5-cols\n",
    "\n",
    "    row_start = random.randint(0, row_max_start)\n",
    "    col_start = random.randint(0, col_max_start)\n",
    "\n",
    "    row_top_pad = row_start\n",
    "    row_bottom_pad = row_max_start - row_start\n",
    "    col_left_pad = col_start\n",
    "    col_right_pad = col_max_start - col_start\n",
    "\n",
    "    return np.pad(p, ((row_top_pad,row_bottom_pad), (col_left_pad,col_right_pad)))"
   ]
  },
  {
   "cell_type": "code",
   "execution_count": null,
   "id": "79bbce96",
   "metadata": {},
   "outputs": [],
   "source": []
  },
  {
   "cell_type": "code",
   "execution_count": 181,
   "id": "359610a9",
   "metadata": {},
   "outputs": [
    {
     "data": {
      "text/plain": [
       "array([[0, 0, 1, 1, 0],\n",
       "       [0, 0, 1, 0, 0],\n",
       "       [0, 0, 1, 0, 0],\n",
       "       [0, 0, 0, 0, 0],\n",
       "       [0, 0, 0, 0, 0]])"
      ]
     },
     "execution_count": 181,
     "metadata": {},
     "output_type": "execute_result"
    }
   ],
   "source": [
    "fill_out(orient(p1_L))"
   ]
  },
  {
   "cell_type": "code",
   "execution_count": null,
   "id": "932bb04b",
   "metadata": {},
   "outputs": [],
   "source": []
  },
  {
   "cell_type": "code",
   "execution_count": 162,
   "id": "213ebb9e",
   "metadata": {},
   "outputs": [
    {
     "data": {
      "text/plain": [
       "array([[0, 1],\n",
       "       [0, 1],\n",
       "       [1, 1]])"
      ]
     },
     "execution_count": 162,
     "metadata": {},
     "output_type": "execute_result"
    }
   ],
   "source": [
    "orient(p1_L)"
   ]
  },
  {
   "cell_type": "code",
   "execution_count": null,
   "id": "02a9a445",
   "metadata": {},
   "outputs": [],
   "source": []
  },
  {
   "cell_type": "code",
   "execution_count": null,
   "id": "d18e0eeb",
   "metadata": {},
   "outputs": [],
   "source": []
  },
  {
   "cell_type": "code",
   "execution_count": null,
   "id": "53cab7ed",
   "metadata": {},
   "outputs": [],
   "source": []
  },
  {
   "cell_type": "code",
   "execution_count": null,
   "id": "25aeb857",
   "metadata": {},
   "outputs": [],
   "source": []
  },
  {
   "cell_type": "code",
   "execution_count": null,
   "id": "899aa3ae",
   "metadata": {},
   "outputs": [],
   "source": []
  },
  {
   "cell_type": "code",
   "execution_count": 142,
   "id": "016e26ca",
   "metadata": {},
   "outputs": [
    {
     "data": {
      "text/plain": [
       "array([[0, 0, 0, 0, 0],\n",
       "       [0, 0, 0, 0, 0],\n",
       "       [1, 0, 0, 0, 0],\n",
       "       [1, 1, 1, 0, 0],\n",
       "       [0, 0, 0, 0, 0]])"
      ]
     },
     "execution_count": 142,
     "metadata": {},
     "output_type": "execute_result"
    }
   ],
   "source": [
    "rows, cols = p1_L.shape\n",
    "\n",
    "row_max_start = 5-rows\n",
    "col_max_start = 5-cols\n",
    "\n",
    "row_start = random.randint(0, row_max_start)\n",
    "col_start = random.randint(0, col_max_start)\n",
    "\n",
    "row_top_pad = row_start\n",
    "row_bottom_pad = row_max_start - row_start\n",
    "col_left_pad = col_start\n",
    "col_right_pad = col_max_start - col_start\n",
    "\n",
    "np.pad(p1_L, ((row_top_pad,row_bottom_pad), (col_left_pad,col_right_pad)))"
   ]
  },
  {
   "cell_type": "code",
   "execution_count": null,
   "id": "633b3336",
   "metadata": {},
   "outputs": [],
   "source": []
  },
  {
   "cell_type": "code",
   "execution_count": null,
   "id": "8f742907",
   "metadata": {},
   "outputs": [],
   "source": []
  },
  {
   "cell_type": "code",
   "execution_count": null,
   "id": "ff16f842",
   "metadata": {},
   "outputs": [],
   "source": []
  },
  {
   "cell_type": "code",
   "execution_count": null,
   "id": "ad5fd510",
   "metadata": {},
   "outputs": [],
   "source": []
  },
  {
   "cell_type": "code",
   "execution_count": null,
   "id": "1992792f",
   "metadata": {},
   "outputs": [],
   "source": []
  },
  {
   "cell_type": "code",
   "execution_count": null,
   "id": "d490bc23",
   "metadata": {},
   "outputs": [],
   "source": []
  },
  {
   "cell_type": "markdown",
   "id": "c2088ffb",
   "metadata": {},
   "source": [
    "# Moves"
   ]
  },
  {
   "cell_type": "code",
   "execution_count": 12,
   "id": "fffaa58e",
   "metadata": {},
   "outputs": [
    {
     "data": {
      "text/plain": [
       "array([[1, 1, 1],\n",
       "       [0, 0, 1]])"
      ]
     },
     "execution_count": 12,
     "metadata": {},
     "output_type": "execute_result"
    }
   ],
   "source": [
    "np.rot90(p2, k=2)"
   ]
  },
  {
   "cell_type": "code",
   "execution_count": null,
   "id": "43f4767d",
   "metadata": {},
   "outputs": [],
   "source": []
  },
  {
   "cell_type": "code",
   "execution_count": null,
   "id": "fd297010",
   "metadata": {},
   "outputs": [],
   "source": []
  }
 ],
 "metadata": {
  "kernelspec": {
   "display_name": "py310",
   "language": "python",
   "name": "py310"
  },
  "language_info": {
   "codemirror_mode": {
    "name": "ipython",
    "version": 3
   },
   "file_extension": ".py",
   "mimetype": "text/x-python",
   "name": "python",
   "nbconvert_exporter": "python",
   "pygments_lexer": "ipython3",
   "version": "3.10.4"
  }
 },
 "nbformat": 4,
 "nbformat_minor": 5
}
