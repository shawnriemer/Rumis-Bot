{
 "cells": [
  {
   "cell_type": "code",
   "execution_count": 1,
   "id": "c7f69103",
   "metadata": {},
   "outputs": [],
   "source": [
    "import pandas as pd\n",
    "import numpy as np\n",
    "import random"
   ]
  },
  {
   "cell_type": "code",
   "execution_count": null,
   "id": "6a191519",
   "metadata": {},
   "outputs": [],
   "source": []
  },
  {
   "cell_type": "markdown",
   "id": "f3388794",
   "metadata": {},
   "source": [
    "# Grid"
   ]
  },
  {
   "cell_type": "code",
   "execution_count": 2,
   "id": "7917b9b1",
   "metadata": {},
   "outputs": [
    {
     "data": {
      "text/plain": [
       "array([[[0., 0., 0., 0., 0.],\n",
       "        [0., 0., 0., 0., 0.],\n",
       "        [0., 0., 0., 0., 0.],\n",
       "        [0., 0., 0., 0., 0.],\n",
       "        [0., 0., 0., 0., 0.]],\n",
       "\n",
       "       [[0., 0., 0., 0., 0.],\n",
       "        [0., 0., 0., 0., 0.],\n",
       "        [0., 0., 0., 0., 0.],\n",
       "        [0., 0., 0., 0., 0.],\n",
       "        [0., 0., 0., 0., 0.]]])"
      ]
     },
     "execution_count": 2,
     "metadata": {},
     "output_type": "execute_result"
    }
   ],
   "source": [
    "grid = np.zeros((2,5,5))\n",
    "grid"
   ]
  },
  {
   "cell_type": "markdown",
   "id": "0b85651e",
   "metadata": {},
   "source": [
    "# Pieces"
   ]
  },
  {
   "cell_type": "code",
   "execution_count": 73,
   "id": "809529b5",
   "metadata": {},
   "outputs": [],
   "source": [
    "# Player 1\n",
    "p1_4x1 = np.array([[[1,1,1,1]], [[0,0,0,0]]])\n",
    "p1_3x1 = np.array([[[1,1,1]], [[0,0,0]]])\n",
    "p1_2x1 = np.array([[[1,1]], [[0,0]]])\n",
    "p1_L = np.array([[[1,0,0], [1,1,1]], [[0,0,0],[0,0,0]]])\n",
    "p1_square = np.array([[[1,1],[1,1]], [[0,0],[0,0]]])\n",
    "p1_corner = np.array([[[1, 0],[1, 1]], [[0, 0],[0, 0]]])\n",
    "p1_pipe = np.array([[[0,1,0],[1,1,1]], [[0,0,0],[0,0,0]]])\n",
    "p1_bend = np.array([[[0,1,1],[1,1,0]], [[0,0,0],[0,0,0]]])\n",
    "p1_archer = np.array([[[1,0],[1,1]], [[0,0],[1,0]]])\n",
    "p1_twistL = np.array([[[1,0],[1,1]], [[0,0],[0,1]]])\n",
    "p1_twistR = np.array([[[0,1],[1,1]], [[0,0],[1,0]]])\n",
    "\n",
    "p1_pieces = [\n",
    "    p1_4x1,\n",
    "    p1_3x1,\n",
    "    p1_2x1,\n",
    "    p1_L,\n",
    "    p1_square,\n",
    "    p1_corner,\n",
    "    p1_pipe,\n",
    "    p1_bend,\n",
    "    p1_archer,\n",
    "    p1_twistL,\n",
    "    p1_twistR\n",
    "]\n",
    "\n",
    "# Player 2\n",
    "p2_4x1 = np.array([[[2,2,2,2]], [[0,0,0,0]]])\n",
    "p2_3x1 = np.array([[[2,2,2]], [[0,0,0]]])\n",
    "p2_2x1 = np.array([[[2,2]], [[0,0]]])\n",
    "p2_L = np.array([[[2,0,0], [2,2,2]], [[0,0,0],[0,0,0]]])\n",
    "p2_square = np.array([[[2,2],[2,2]], [[0,0],[0,0]]])\n",
    "p2_corner = np.array([[[2,0],[2,2]], [[0,0],[0,0]]])\n",
    "p2_pipe = np.array([[[0,2,0],[2,2,2]], [[0,0,0],[0,0,0]]])\n",
    "p2_bend = np.array([[[0,2,2],[2,2,0]], [[0,0,0],[0,0,0]]])\n",
    "p2_archer = np.array([[[2,0],[2,2]], [[0,0],[2,0]]])\n",
    "p2_twistL = np.array([[[2,0],[2,2]], [[0,0],[0,2]]])\n",
    "p2_twistR = np.array([[[0,2],[2,2]], [[0,0],[2,0]]])\n",
    "\n",
    "p2_pieces = [\n",
    "    p2_4x1,\n",
    "    p2_3x1,\n",
    "    p2_2x1,\n",
    "    p2_L,\n",
    "    p2_square,\n",
    "    p2_corner,\n",
    "    p2_pipe,\n",
    "    p2_bend,\n",
    "    p2_archer,\n",
    "    p2_twistL,\n",
    "    p2_twistR\n",
    "]"
   ]
  },
  {
   "cell_type": "code",
   "execution_count": 74,
   "id": "db777da7",
   "metadata": {},
   "outputs": [],
   "source": [
    "p1_piece_names = [\n",
    "    'p1_4x1',\n",
    "    'p1_3x1',\n",
    "    'p1_2x1',\n",
    "    'p1_L',\n",
    "    'p1_square',\n",
    "    'p1_corner',\n",
    "    'p1_pipe',\n",
    "    'p1_bend',\n",
    "    'p1_archer',\n",
    "    'p1_twistL',\n",
    "    'p1_twistR'\n",
    "]\n",
    "\n",
    "p2_piece_names = [\n",
    "    'p2_4x1',\n",
    "    'p2_3x1',\n",
    "    'p2_2x1',\n",
    "    'p2_L',\n",
    "    'p2_square',\n",
    "    'p2_corner',\n",
    "    'p2_pipe',\n",
    "    'p2_bend',\n",
    "    'p2_archer',\n",
    "    'p2_twistL',\n",
    "    'p2_twistR'\n",
    "]\n",
    "\n",
    "# p1_pieces = {\n",
    "#     'p1_4x1': p1_4x1,\n",
    "#     'p1_3x1': p1_3x1,\n",
    "#     'p1_2x1': p1_2x1,\n",
    "#     'p1_L': p1_L,\n",
    "#     'p1_square': p1_square,\n",
    "#     'p1_corner': p1_corner,\n",
    "#     'p1_pipe': p1_pipe,\n",
    "#     'p1_bend': p1_bend,\n",
    "#     'p1_archer': p1_archer,\n",
    "#     'p1_twistL': p1_twistL,\n",
    "#     'p1_twistR': p1_twistR\n",
    "# }\n",
    "\n",
    "# p2_pieces = {\n",
    "#     'p2_4x1': p2_4x1,\n",
    "#     'p2_3x1': p2_3x1,\n",
    "#     'p2_2x1': p2_2x1,\n",
    "#     'p2_L': p2_L,\n",
    "#     'p2_square': p2_square,\n",
    "#     'p2_corner': p2_corner,\n",
    "#     'p2_pipe': p2_pipe,\n",
    "#     'p2_bend': p2_bend,\n",
    "#     'p2_archer': p2_archer,\n",
    "#     'p2_twistL': p2_twistL,\n",
    "#     'p2_twistR': p2_twistR\n",
    "# }"
   ]
  },
  {
   "cell_type": "code",
   "execution_count": null,
   "id": "370a47e0",
   "metadata": {},
   "outputs": [],
   "source": []
  },
  {
   "cell_type": "markdown",
   "id": "135969e3",
   "metadata": {},
   "source": [
    "# Play"
   ]
  },
  {
   "cell_type": "code",
   "execution_count": 16,
   "id": "6cac5dc8",
   "metadata": {},
   "outputs": [
    {
     "data": {
      "text/plain": [
       "array([[[0, 1],\n",
       "        [0, 1],\n",
       "        [0, 1]]])"
      ]
     },
     "execution_count": 16,
     "metadata": {},
     "output_type": "execute_result"
    }
   ],
   "source": [
    "# t = np.array([[[1, 0],[1, 1]], [[0, 0],[0, 0]]])\n",
    "t = np.array([[[1,1,1]], [[0,0,0]]])\n",
    "k1 = random.randint(0,3)\n",
    "k2 = random.randint(0,3)\n",
    "\n",
    "np.rot90(np.rot90(t, k=k1, axes=(0,1)), k=k2, axes=(1,2))"
   ]
  },
  {
   "cell_type": "code",
   "execution_count": 18,
   "id": "2a0b3d2d",
   "metadata": {},
   "outputs": [
    {
     "data": {
      "text/plain": [
       "array([[1, 1, 1]])"
      ]
     },
     "execution_count": 18,
     "metadata": {},
     "output_type": "execute_result"
    }
   ],
   "source": [
    "t = np.array([[1,1,1]])\n",
    "k1 = random.randint(0,3)\n",
    "np.rot90(t, k=k1, axes=(0,1))"
   ]
  },
  {
   "cell_type": "code",
   "execution_count": null,
   "id": "31b3dffe",
   "metadata": {},
   "outputs": [],
   "source": []
  },
  {
   "cell_type": "code",
   "execution_count": 36,
   "id": "1f148247",
   "metadata": {},
   "outputs": [
    {
     "data": {
      "text/plain": [
       "array([[[0, 0, 0, 0, 0],\n",
       "        [0, 0, 0, 0, 0],\n",
       "        [0, 0, 0, 0, 0],\n",
       "        [0, 0, 1, 1, 0],\n",
       "        [0, 0, 1, 0, 0]],\n",
       "\n",
       "       [[0, 0, 0, 0, 0],\n",
       "        [0, 0, 0, 0, 0],\n",
       "        [0, 0, 0, 0, 0],\n",
       "        [0, 0, 0, 0, 0],\n",
       "        [0, 0, 0, 0, 0]]])"
      ]
     },
     "execution_count": 36,
     "metadata": {},
     "output_type": "execute_result"
    }
   ],
   "source": [
    "t = np.array([[[1, 0],[1, 1]], [[0, 0],[0, 0]]])\n",
    "grid = fill_out(orient(t))\n",
    "grid"
   ]
  },
  {
   "cell_type": "code",
   "execution_count": null,
   "id": "1d5bd56c",
   "metadata": {},
   "outputs": [],
   "source": []
  },
  {
   "cell_type": "code",
   "execution_count": null,
   "id": "e2a97a4d",
   "metadata": {},
   "outputs": [],
   "source": []
  },
  {
   "cell_type": "code",
   "execution_count": null,
   "id": "f9dd8f91",
   "metadata": {},
   "outputs": [],
   "source": []
  },
  {
   "cell_type": "code",
   "execution_count": null,
   "id": "664a85cf",
   "metadata": {},
   "outputs": [],
   "source": []
  },
  {
   "cell_type": "code",
   "execution_count": null,
   "id": "b69627fd",
   "metadata": {},
   "outputs": [],
   "source": []
  },
  {
   "cell_type": "code",
   "execution_count": 83,
   "id": "f936fdc3",
   "metadata": {},
   "outputs": [],
   "source": [
    "def orient(p):\n",
    "    k1 = random.randint(0,3)\n",
    "    k2 = random.randint(0,3)\n",
    "    return np.rot90(np.rot90(p, k=k1, axes=(0,1)), k=k2, axes=(1,2))\n",
    "\n",
    "\n",
    "def fill_out(piece, grid):\n",
    "    n_layers, n_rows, n_columns = grid.shape\n",
    "    stacks, rows, cols = piece.shape\n",
    "\n",
    "    stack_max_start = n_layers-stacks\n",
    "    row_max_start = n_rows-rows\n",
    "    col_max_start = n_columns-cols\n",
    "\n",
    "    stack_start = random.randint(0, stack_max_start)\n",
    "    row_start = random.randint(0, row_max_start)\n",
    "    col_start = random.randint(0, col_max_start)\n",
    "    \n",
    "    stack_top_pad = stack_start\n",
    "    stack_bottom_pad = stack_max_start - stack_start\n",
    "    row_top_pad = row_start\n",
    "    row_bottom_pad = row_max_start - row_start\n",
    "    col_left_pad = col_start\n",
    "    col_right_pad = col_max_start - col_start\n",
    "\n",
    "    return np.pad(piece,((stack_top_pad,stack_bottom_pad),(row_top_pad,row_bottom_pad),(col_left_pad,col_right_pad)))\n",
    "\n",
    "\n",
    "def check_adjacent(grid, layer, player):\n",
    "    n_layers, n_rows, n_columns = grid.shape\n",
    "    \n",
    "    adjacent = np.zeros((n_layers, n_rows, n_columns))\n",
    "\n",
    "    for i, level in enumerate(grid):\n",
    "        for j, row in enumerate(level):\n",
    "            for k, val in enumerate(row):\n",
    "                \n",
    "                if val == player:\n",
    "\n",
    "                    # Spots above current spots\n",
    "                    if (i < (n_layers-1)) and (grid[i+1, j, k] == 0):\n",
    "                        adjacent[i+1, j, k] = player\n",
    "\n",
    "                    # Spots above/below current spots\n",
    "                    if (j > 0) and (grid[i, j-1, k] == 0):\n",
    "                        adjacent[i, j-1, k] = player\n",
    "                    if (j < (n_rows-1)) and (grid[i, j+1, k] == 0):\n",
    "                        adjacent[i, j+1, k] = player\n",
    "\n",
    "                    # Spots left/right of current spots\n",
    "                    if (k > 0) and (grid[i, j, k-1] == 0):\n",
    "                        adjacent[i, j, k-1] = player\n",
    "                    if (k < (n_columns-1)) and (grid[i, j, k+1] == 0):\n",
    "                        adjacent[i, j, k+1] = player\n",
    "                    \n",
    "    adjacent_bool = False if (adjacent*layer).max() == 0 else True\n",
    "    return adjacent, adjacent_bool\n",
    "\n",
    "\n",
    "def check_nothanging(grid, layer, player):\n",
    "    new_grid = grid + layer\n",
    "    \n",
    "    for i, level in enumerate(new_grid):\n",
    "            for j, row in enumerate(level):\n",
    "                for k, val in enumerate(row):\n",
    "                    if val == player:\n",
    "                        # Spots below cant be empty\n",
    "                        if (i > 0) and (new_grid[i-1, j, k] == 0):\n",
    "                            return False\n",
    "    return True\n",
    "    \n",
    "    \n",
    "def play_move(piece_list, grid, player, start, piece_names):\n",
    "    \n",
    "    attempt_counter = 0\n",
    "    \n",
    "    while attempt_counter < 1000:\n",
    "    \n",
    "        # Randomly choose a piece\n",
    "        piece_i = random.randint(0, len(piece_list)-1)\n",
    "        piece = piece_list[piece_i]\n",
    "\n",
    "        # Randomly rotate piece and place it's location\n",
    "        oriented_piece = orient(piece)\n",
    "        layer = fill_out(oriented_piece, grid)\n",
    "\n",
    "        \n",
    "        # Check if it is a legal move\n",
    "        \n",
    "        # Are any spots already taken?\n",
    "        if (grid*layer).max() == 0:\n",
    "            spot_bool = True\n",
    "        else:\n",
    "            spot_bool = False\n",
    "\n",
    "        # Check if adjacent to an existing piece (unless it's the first turn)\n",
    "        if (spot_bool is True) and (start is False):\n",
    "            adjacent, adjacent_bool = check_adjacent(grid, layer, player)\n",
    "        else:\n",
    "            adjacent_bool = True\n",
    "            adjacent = ''\n",
    "        \n",
    "        # Check that the piece is not hanging\n",
    "        if (spot_bool is True) and (adjacent_bool is True):\n",
    "            nothanging_bool = check_nothanging(grid, layer, player)\n",
    "        else:\n",
    "            nothanging_bool = False\n",
    "        \n",
    "        # Make that play if it is legal\n",
    "        if (spot_bool is True) and (adjacent_bool is True) and (nothanging_bool is True):\n",
    "            grid += layer\n",
    "            del piece_list[piece_i]\n",
    "            piece_name = piece_names.pop(piece_i)\n",
    "            # print('Adjacent:\\n', adjacent, '\\n')\n",
    "            print(piece_name,)\n",
    "            print(f'# of attempts: {attempt_counter}')\n",
    "            # print('Layer:\\n', layer, '\\n')\n",
    "            print('Grid:\\n', grid, '\\n')\n",
    "            return grid, piece_list, piece_names\n",
    "        \n",
    "        # Keep track of attempts\n",
    "        attempt_counter+=1\n",
    "        if attempt_counter==1000:\n",
    "            print('Maxed out attempts\\n')\n",
    "            return grid, piece_list, piece_names"
   ]
  },
  {
   "cell_type": "code",
   "execution_count": 85,
   "id": "02cadd89",
   "metadata": {
    "scrolled": false
   },
   "outputs": [
    {
     "name": "stdout",
     "output_type": "stream",
     "text": [
      "p1_4x1\n",
      "# of attempts: 5\n",
      "Grid:\n",
      " [[[1. 0. 0. 0. 0.]\n",
      "  [1. 0. 0. 0. 0.]\n",
      "  [1. 0. 0. 0. 0.]\n",
      "  [1. 0. 0. 0. 0.]]\n",
      "\n",
      " [[0. 0. 0. 0. 0.]\n",
      "  [0. 0. 0. 0. 0.]\n",
      "  [0. 0. 0. 0. 0.]\n",
      "  [0. 0. 0. 0. 0.]]\n",
      "\n",
      " [[0. 0. 0. 0. 0.]\n",
      "  [0. 0. 0. 0. 0.]\n",
      "  [0. 0. 0. 0. 0.]\n",
      "  [0. 0. 0. 0. 0.]]\n",
      "\n",
      " [[0. 0. 0. 0. 0.]\n",
      "  [0. 0. 0. 0. 0.]\n",
      "  [0. 0. 0. 0. 0.]\n",
      "  [0. 0. 0. 0. 0.]]] \n",
      "\n",
      "p2_2x1\n",
      "# of attempts: 14\n",
      "Grid:\n",
      " [[[1. 0. 0. 0. 2.]\n",
      "  [1. 0. 0. 0. 2.]\n",
      "  [1. 0. 0. 0. 0.]\n",
      "  [1. 0. 0. 0. 0.]]\n",
      "\n",
      " [[0. 0. 0. 0. 0.]\n",
      "  [0. 0. 0. 0. 0.]\n",
      "  [0. 0. 0. 0. 0.]\n",
      "  [0. 0. 0. 0. 0.]]\n",
      "\n",
      " [[0. 0. 0. 0. 0.]\n",
      "  [0. 0. 0. 0. 0.]\n",
      "  [0. 0. 0. 0. 0.]\n",
      "  [0. 0. 0. 0. 0.]]\n",
      "\n",
      " [[0. 0. 0. 0. 0.]\n",
      "  [0. 0. 0. 0. 0.]\n",
      "  [0. 0. 0. 0. 0.]\n",
      "  [0. 0. 0. 0. 0.]]] \n",
      "\n",
      "p1_2x1\n",
      "# of attempts: 33\n",
      "Grid:\n",
      " [[[1. 0. 0. 0. 2.]\n",
      "  [1. 0. 0. 0. 2.]\n",
      "  [1. 0. 0. 0. 0.]\n",
      "  [1. 0. 0. 0. 0.]]\n",
      "\n",
      " [[1. 0. 0. 0. 0.]\n",
      "  [1. 0. 0. 0. 0.]\n",
      "  [0. 0. 0. 0. 0.]\n",
      "  [0. 0. 0. 0. 0.]]\n",
      "\n",
      " [[0. 0. 0. 0. 0.]\n",
      "  [0. 0. 0. 0. 0.]\n",
      "  [0. 0. 0. 0. 0.]\n",
      "  [0. 0. 0. 0. 0.]]\n",
      "\n",
      " [[0. 0. 0. 0. 0.]\n",
      "  [0. 0. 0. 0. 0.]\n",
      "  [0. 0. 0. 0. 0.]\n",
      "  [0. 0. 0. 0. 0.]]] \n",
      "\n",
      "p2_corner\n",
      "# of attempts: 29\n",
      "Grid:\n",
      " [[[1. 0. 0. 0. 2.]\n",
      "  [1. 0. 0. 0. 2.]\n",
      "  [1. 0. 0. 2. 2.]\n",
      "  [1. 0. 0. 0. 2.]]\n",
      "\n",
      " [[1. 0. 0. 0. 0.]\n",
      "  [1. 0. 0. 0. 0.]\n",
      "  [0. 0. 0. 0. 0.]\n",
      "  [0. 0. 0. 0. 0.]]\n",
      "\n",
      " [[0. 0. 0. 0. 0.]\n",
      "  [0. 0. 0. 0. 0.]\n",
      "  [0. 0. 0. 0. 0.]\n",
      "  [0. 0. 0. 0. 0.]]\n",
      "\n",
      " [[0. 0. 0. 0. 0.]\n",
      "  [0. 0. 0. 0. 0.]\n",
      "  [0. 0. 0. 0. 0.]\n",
      "  [0. 0. 0. 0. 0.]]] \n",
      "\n",
      "p1_L\n",
      "# of attempts: 17\n",
      "Grid:\n",
      " [[[1. 0. 0. 0. 2.]\n",
      "  [1. 0. 1. 0. 2.]\n",
      "  [1. 0. 1. 2. 2.]\n",
      "  [1. 1. 1. 0. 2.]]\n",
      "\n",
      " [[1. 0. 0. 0. 0.]\n",
      "  [1. 0. 0. 0. 0.]\n",
      "  [0. 0. 0. 0. 0.]\n",
      "  [0. 0. 0. 0. 0.]]\n",
      "\n",
      " [[0. 0. 0. 0. 0.]\n",
      "  [0. 0. 0. 0. 0.]\n",
      "  [0. 0. 0. 0. 0.]\n",
      "  [0. 0. 0. 0. 0.]]\n",
      "\n",
      " [[0. 0. 0. 0. 0.]\n",
      "  [0. 0. 0. 0. 0.]\n",
      "  [0. 0. 0. 0. 0.]\n",
      "  [0. 0. 0. 0. 0.]]] \n",
      "\n",
      "p2_square\n",
      "# of attempts: 4\n",
      "Grid:\n",
      " [[[1. 0. 0. 0. 2.]\n",
      "  [1. 0. 1. 0. 2.]\n",
      "  [1. 0. 1. 2. 2.]\n",
      "  [1. 1. 1. 0. 2.]]\n",
      "\n",
      " [[1. 0. 0. 0. 0.]\n",
      "  [1. 0. 0. 0. 0.]\n",
      "  [0. 0. 0. 0. 2.]\n",
      "  [0. 0. 0. 0. 2.]]\n",
      "\n",
      " [[0. 0. 0. 0. 0.]\n",
      "  [0. 0. 0. 0. 0.]\n",
      "  [0. 0. 0. 0. 2.]\n",
      "  [0. 0. 0. 0. 2.]]\n",
      "\n",
      " [[0. 0. 0. 0. 0.]\n",
      "  [0. 0. 0. 0. 0.]\n",
      "  [0. 0. 0. 0. 0.]\n",
      "  [0. 0. 0. 0. 0.]]] \n",
      "\n",
      "p1_bend\n",
      "# of attempts: 6\n",
      "Grid:\n",
      " [[[1. 0. 0. 1. 2.]\n",
      "  [1. 0. 1. 1. 2.]\n",
      "  [1. 0. 1. 2. 2.]\n",
      "  [1. 1. 1. 0. 2.]]\n",
      "\n",
      " [[1. 0. 0. 0. 0.]\n",
      "  [1. 0. 0. 1. 0.]\n",
      "  [0. 0. 0. 1. 2.]\n",
      "  [0. 0. 0. 0. 2.]]\n",
      "\n",
      " [[0. 0. 0. 0. 0.]\n",
      "  [0. 0. 0. 0. 0.]\n",
      "  [0. 0. 0. 0. 2.]\n",
      "  [0. 0. 0. 0. 2.]]\n",
      "\n",
      " [[0. 0. 0. 0. 0.]\n",
      "  [0. 0. 0. 0. 0.]\n",
      "  [0. 0. 0. 0. 0.]\n",
      "  [0. 0. 0. 0. 0.]]] \n",
      "\n",
      "p2_twistR\n",
      "# of attempts: 155\n",
      "Grid:\n",
      " [[[1. 0. 0. 1. 2.]\n",
      "  [1. 0. 1. 1. 2.]\n",
      "  [1. 0. 1. 2. 2.]\n",
      "  [1. 1. 1. 0. 2.]]\n",
      "\n",
      " [[1. 0. 0. 0. 0.]\n",
      "  [1. 0. 0. 1. 0.]\n",
      "  [0. 0. 0. 1. 2.]\n",
      "  [0. 0. 0. 0. 2.]]\n",
      "\n",
      " [[0. 0. 0. 0. 0.]\n",
      "  [0. 0. 0. 0. 0.]\n",
      "  [0. 0. 0. 2. 2.]\n",
      "  [0. 0. 0. 0. 2.]]\n",
      "\n",
      " [[0. 0. 0. 0. 0.]\n",
      "  [0. 0. 0. 0. 0.]\n",
      "  [0. 0. 0. 2. 2.]\n",
      "  [0. 0. 0. 0. 2.]]] \n",
      "\n",
      "p1_twistL\n",
      "# of attempts: 10\n",
      "Grid:\n",
      " [[[1. 0. 0. 1. 2.]\n",
      "  [1. 0. 1. 1. 2.]\n",
      "  [1. 0. 1. 2. 2.]\n",
      "  [1. 1. 1. 0. 2.]]\n",
      "\n",
      " [[1. 0. 0. 0. 0.]\n",
      "  [1. 0. 0. 1. 0.]\n",
      "  [1. 0. 0. 1. 2.]\n",
      "  [1. 1. 0. 0. 2.]]\n",
      "\n",
      " [[0. 0. 0. 0. 0.]\n",
      "  [0. 0. 0. 0. 0.]\n",
      "  [0. 0. 0. 2. 2.]\n",
      "  [0. 1. 0. 0. 2.]]\n",
      "\n",
      " [[0. 0. 0. 0. 0.]\n",
      "  [0. 0. 0. 0. 0.]\n",
      "  [0. 0. 0. 2. 2.]\n",
      "  [0. 0. 0. 0. 2.]]] \n",
      "\n",
      "p2_pipe\n",
      "# of attempts: 305\n",
      "Grid:\n",
      " [[[1. 0. 0. 1. 2.]\n",
      "  [1. 0. 1. 1. 2.]\n",
      "  [1. 0. 1. 2. 2.]\n",
      "  [1. 1. 1. 0. 2.]]\n",
      "\n",
      " [[1. 0. 0. 0. 0.]\n",
      "  [1. 0. 2. 1. 0.]\n",
      "  [1. 0. 2. 1. 2.]\n",
      "  [1. 1. 2. 0. 2.]]\n",
      "\n",
      " [[0. 0. 0. 0. 0.]\n",
      "  [0. 0. 0. 0. 0.]\n",
      "  [0. 0. 2. 2. 2.]\n",
      "  [0. 1. 0. 0. 2.]]\n",
      "\n",
      " [[0. 0. 0. 0. 0.]\n",
      "  [0. 0. 0. 0. 0.]\n",
      "  [0. 0. 0. 2. 2.]\n",
      "  [0. 0. 0. 0. 2.]]] \n",
      "\n",
      "p1_3x1\n",
      "# of attempts: 15\n",
      "Grid:\n",
      " [[[1. 0. 0. 1. 2.]\n",
      "  [1. 0. 1. 1. 2.]\n",
      "  [1. 0. 1. 2. 2.]\n",
      "  [1. 1. 1. 0. 2.]]\n",
      "\n",
      " [[1. 0. 0. 0. 0.]\n",
      "  [1. 0. 2. 1. 0.]\n",
      "  [1. 0. 2. 1. 2.]\n",
      "  [1. 1. 2. 0. 2.]]\n",
      "\n",
      " [[1. 0. 0. 0. 0.]\n",
      "  [1. 0. 0. 0. 0.]\n",
      "  [1. 0. 2. 2. 2.]\n",
      "  [0. 1. 0. 0. 2.]]\n",
      "\n",
      " [[0. 0. 0. 0. 0.]\n",
      "  [0. 0. 0. 0. 0.]\n",
      "  [0. 0. 0. 2. 2.]\n",
      "  [0. 0. 0. 0. 2.]]] \n",
      "\n",
      "p2_archer\n",
      "# of attempts: 966\n",
      "Grid:\n",
      " [[[1. 0. 0. 1. 2.]\n",
      "  [1. 0. 1. 1. 2.]\n",
      "  [1. 0. 1. 2. 2.]\n",
      "  [1. 1. 1. 0. 2.]]\n",
      "\n",
      " [[1. 0. 0. 0. 0.]\n",
      "  [1. 0. 2. 1. 0.]\n",
      "  [1. 0. 2. 1. 2.]\n",
      "  [1. 1. 2. 0. 2.]]\n",
      "\n",
      " [[1. 0. 0. 0. 0.]\n",
      "  [1. 0. 0. 0. 0.]\n",
      "  [1. 0. 2. 2. 2.]\n",
      "  [0. 1. 2. 0. 2.]]\n",
      "\n",
      " [[0. 0. 0. 0. 0.]\n",
      "  [0. 0. 0. 0. 0.]\n",
      "  [0. 0. 2. 2. 2.]\n",
      "  [0. 2. 2. 0. 2.]]] \n",
      "\n",
      "p1_square\n",
      "# of attempts: 2\n",
      "Grid:\n",
      " [[[1. 1. 1. 1. 2.]\n",
      "  [1. 0. 1. 1. 2.]\n",
      "  [1. 0. 1. 2. 2.]\n",
      "  [1. 1. 1. 0. 2.]]\n",
      "\n",
      " [[1. 1. 1. 0. 0.]\n",
      "  [1. 0. 2. 1. 0.]\n",
      "  [1. 0. 2. 1. 2.]\n",
      "  [1. 1. 2. 0. 2.]]\n",
      "\n",
      " [[1. 0. 0. 0. 0.]\n",
      "  [1. 0. 0. 0. 0.]\n",
      "  [1. 0. 2. 2. 2.]\n",
      "  [0. 1. 2. 0. 2.]]\n",
      "\n",
      " [[0. 0. 0. 0. 0.]\n",
      "  [0. 0. 0. 0. 0.]\n",
      "  [0. 0. 2. 2. 2.]\n",
      "  [0. 2. 2. 0. 2.]]] \n",
      "\n",
      "p2_twistL\n",
      "# of attempts: 166\n",
      "Grid:\n",
      " [[[1. 1. 1. 1. 2.]\n",
      "  [1. 0. 1. 1. 2.]\n",
      "  [1. 0. 1. 2. 2.]\n",
      "  [1. 1. 1. 0. 2.]]\n",
      "\n",
      " [[1. 1. 1. 2. 2.]\n",
      "  [1. 0. 2. 1. 2.]\n",
      "  [1. 0. 2. 1. 2.]\n",
      "  [1. 1. 2. 0. 2.]]\n",
      "\n",
      " [[1. 0. 0. 2. 0.]\n",
      "  [1. 0. 0. 0. 0.]\n",
      "  [1. 0. 2. 2. 2.]\n",
      "  [0. 1. 2. 0. 2.]]\n",
      "\n",
      " [[0. 0. 0. 0. 0.]\n",
      "  [0. 0. 0. 0. 0.]\n",
      "  [0. 0. 2. 2. 2.]\n",
      "  [0. 2. 2. 0. 2.]]] \n",
      "\n",
      "p1_archer\n",
      "# of attempts: 74\n",
      "Grid:\n",
      " [[[1. 1. 1. 1. 2.]\n",
      "  [1. 0. 1. 1. 2.]\n",
      "  [1. 0. 1. 2. 2.]\n",
      "  [1. 1. 1. 0. 2.]]\n",
      "\n",
      " [[1. 1. 1. 2. 2.]\n",
      "  [1. 0. 2. 1. 2.]\n",
      "  [1. 0. 2. 1. 2.]\n",
      "  [1. 1. 2. 0. 2.]]\n",
      "\n",
      " [[1. 0. 1. 2. 0.]\n",
      "  [1. 0. 1. 1. 0.]\n",
      "  [1. 0. 2. 2. 2.]\n",
      "  [0. 1. 2. 0. 2.]]\n",
      "\n",
      " [[0. 0. 0. 0. 0.]\n",
      "  [0. 0. 1. 0. 0.]\n",
      "  [0. 0. 2. 2. 2.]\n",
      "  [0. 2. 2. 0. 2.]]] \n",
      "\n",
      "p2_L\n",
      "# of attempts: 281\n",
      "Grid:\n",
      " [[[1. 1. 1. 1. 2.]\n",
      "  [1. 0. 1. 1. 2.]\n",
      "  [1. 0. 1. 2. 2.]\n",
      "  [1. 1. 1. 0. 2.]]\n",
      "\n",
      " [[1. 1. 1. 2. 2.]\n",
      "  [1. 0. 2. 1. 2.]\n",
      "  [1. 0. 2. 1. 2.]\n",
      "  [1. 1. 2. 0. 2.]]\n",
      "\n",
      " [[1. 0. 1. 2. 2.]\n",
      "  [1. 0. 1. 1. 0.]\n",
      "  [1. 0. 2. 2. 2.]\n",
      "  [0. 1. 2. 0. 2.]]\n",
      "\n",
      " [[0. 0. 2. 2. 2.]\n",
      "  [0. 0. 1. 0. 0.]\n",
      "  [0. 0. 2. 2. 2.]\n",
      "  [0. 2. 2. 0. 2.]]] \n",
      "\n",
      "p1_corner\n",
      "# of attempts: 54\n",
      "Grid:\n",
      " [[[1. 1. 1. 1. 2.]\n",
      "  [1. 0. 1. 1. 2.]\n",
      "  [1. 0. 1. 2. 2.]\n",
      "  [1. 1. 1. 0. 2.]]\n",
      "\n",
      " [[1. 1. 1. 2. 2.]\n",
      "  [1. 0. 2. 1. 2.]\n",
      "  [1. 0. 2. 1. 2.]\n",
      "  [1. 1. 2. 0. 2.]]\n",
      "\n",
      " [[1. 0. 1. 2. 2.]\n",
      "  [1. 0. 1. 1. 1.]\n",
      "  [1. 0. 2. 2. 2.]\n",
      "  [0. 1. 2. 0. 2.]]\n",
      "\n",
      " [[0. 0. 2. 2. 2.]\n",
      "  [0. 0. 1. 1. 1.]\n",
      "  [0. 0. 2. 2. 2.]\n",
      "  [0. 2. 2. 0. 2.]]] \n",
      "\n",
      "Maxed out attempts\n",
      "\n",
      "Maxed out attempts\n",
      "\n",
      "Maxed out attempts\n",
      "\n",
      "Maxed out attempts\n",
      "\n"
     ]
    }
   ],
   "source": [
    "i=0\n",
    "# grid = np.zeros((2,5,5))\n",
    "grid = np.zeros((4, 4, 5))\n",
    "p1_pieces = [p1_4x1, p1_3x1, p1_2x1, p1_L, p1_square, p1_corner, p1_pipe, p1_bend, p1_archer, p1_twistL, p1_twistR]\n",
    "p2_pieces = [p2_4x1, p2_3x1, p2_2x1, p2_L, p2_square, p2_corner, p2_pipe, p2_bend, p2_archer, p2_twistL, p2_twistR]\n",
    "p1_piece_names = [\n",
    "    'p1_4x1','p1_3x1','p1_2x1','p1_L','p1_square','p1_corner','p1_pipe','p1_bend','p1_archer','p1_twistL','p1_twistR']\n",
    "p2_piece_names = [\n",
    "    'p2_4x1','p2_3x1','p2_2x1','p2_L','p2_square','p2_corner','p2_pipe','p2_bend','p2_archer','p2_twistL','p2_twistR']\n",
    "\n",
    "while i<=20:\n",
    "    # Figure out whose turn it is and get their available pieces\n",
    "    piece_list = p1_pieces if i%2 == 0 else p2_pieces\n",
    "    player = 1 if i%2 == 0 else 2\n",
    "    piece_names = p1_piece_names if i%2 == 0 else p2_piece_names\n",
    "    \n",
    "    # Indicate if it's the player's first turn\n",
    "    start = True if i<=1 else False\n",
    "    \n",
    "    # Play a piece\n",
    "    if len(piece_list) > 0:\n",
    "        grid, piece_list, piece_names = play_move(piece_list, grid, player, start, piece_names)\n",
    "        \n",
    "    i+=1"
   ]
  },
  {
   "cell_type": "code",
   "execution_count": 51,
   "id": "1554df3e",
   "metadata": {},
   "outputs": [
    {
     "data": {
      "text/plain": [
       "array([[0., 2., 1., 1., 1.],\n",
       "       [1., 2., 1., 1., 2.],\n",
       "       [1., 1., 1., 0., 2.],\n",
       "       [1., 1., 2., 2., 2.],\n",
       "       [1., 1., 2., 2., 2.]])"
      ]
     },
     "execution_count": 51,
     "metadata": {},
     "output_type": "execute_result"
    }
   ],
   "source": [
    "grid"
   ]
  },
  {
   "cell_type": "code",
   "execution_count": 53,
   "id": "2327bff2",
   "metadata": {},
   "outputs": [
    {
     "data": {
      "text/plain": [
       "array([[0, 1, 0, 0, 0],\n",
       "       [0, 1, 0, 0, 0],\n",
       "       [0, 1, 1, 0, 0],\n",
       "       [0, 0, 0, 0, 0],\n",
       "       [0, 0, 0, 0, 0]])"
      ]
     },
     "execution_count": 53,
     "metadata": {},
     "output_type": "execute_result"
    }
   ],
   "source": [
    "t = np.array([[0,1,0,0,0], [0,1,0,0,0], [0,1,1,0,0], [0,0,0,0,0], [0,0,0,0,0]])\n",
    "t"
   ]
  },
  {
   "cell_type": "code",
   "execution_count": 54,
   "id": "de916e8f",
   "metadata": {},
   "outputs": [
    {
     "data": {
      "text/plain": [
       "array([0, 1, 0, 0, 0])"
      ]
     },
     "execution_count": 54,
     "metadata": {},
     "output_type": "execute_result"
    }
   ],
   "source": [
    "t[0]"
   ]
  },
  {
   "cell_type": "code",
   "execution_count": 76,
   "id": "08f0299c",
   "metadata": {},
   "outputs": [],
   "source": [
    "adjacent = np.zeros((5,5))\n",
    "\n",
    "for i, row in enumerate(t):\n",
    "    for j, val in enumerate(row):\n",
    "        if val == 1:\n",
    "            # 4 is hardcoded\n",
    "            if (j>0) and (t[i, j-1] == 0):\n",
    "                adjacent[i, j-1] = 1\n",
    "            if (j<4)  and (t[i, j+1]) == 0:\n",
    "                adjacent[i, j+1] = 1\n",
    "            if (i>0) and (t[i-1, j]) == 0:\n",
    "                adjacent[i-1, j] = 1\n",
    "            if (i<4) and (t[i+1, j]) == 0:\n",
    "                adjacent[i+1, j] = 1"
   ]
  },
  {
   "cell_type": "code",
   "execution_count": 77,
   "id": "94500c4f",
   "metadata": {},
   "outputs": [
    {
     "data": {
      "text/plain": [
       "array([[1., 0., 1., 0., 0.],\n",
       "       [1., 0., 1., 0., 0.],\n",
       "       [1., 0., 0., 1., 0.],\n",
       "       [0., 1., 1., 0., 0.],\n",
       "       [0., 0., 0., 0., 0.]])"
      ]
     },
     "execution_count": 77,
     "metadata": {},
     "output_type": "execute_result"
    }
   ],
   "source": [
    "adjacent"
   ]
  },
  {
   "cell_type": "code",
   "execution_count": 90,
   "id": "5e2dda62",
   "metadata": {},
   "outputs": [
    {
     "data": {
      "text/plain": [
       "2.0"
      ]
     },
     "execution_count": 90,
     "metadata": {},
     "output_type": "execute_result"
    }
   ],
   "source": [
    "grid.max()"
   ]
  },
  {
   "cell_type": "code",
   "execution_count": null,
   "id": "0fd2e824",
   "metadata": {},
   "outputs": [],
   "source": []
  },
  {
   "cell_type": "code",
   "execution_count": null,
   "id": "61dc7105",
   "metadata": {},
   "outputs": [],
   "source": []
  },
  {
   "cell_type": "code",
   "execution_count": null,
   "id": "74ffc2f2",
   "metadata": {},
   "outputs": [],
   "source": []
  },
  {
   "cell_type": "code",
   "execution_count": 31,
   "id": "a780b62e",
   "metadata": {},
   "outputs": [
    {
     "name": "stdout",
     "output_type": "stream",
     "text": [
      "[[0. 0. 0. 0. 0.]\n",
      " [0. 0. 0. 0. 0.]\n",
      " [0. 0. 1. 0. 0.]\n",
      " [0. 0. 1. 1. 0.]\n",
      " [0. 0. 0. 1. 0.]] \n",
      "\n",
      "[[0. 0. 0. 0. 0.]\n",
      " [2. 0. 0. 0. 0.]\n",
      " [2. 2. 1. 0. 0.]\n",
      " [2. 0. 1. 1. 0.]\n",
      " [0. 0. 0. 1. 0.]] \n",
      "\n",
      "[[0. 0. 0. 0. 0.]\n",
      " [2. 0. 0. 0. 0.]\n",
      " [2. 2. 1. 0. 0.]\n",
      " [2. 0. 1. 1. 0.]\n",
      " [0. 0. 0. 1. 0.]] \n",
      "\n",
      "[[0. 0. 0. 0. 0.]\n",
      " [2. 0. 0. 2. 2.]\n",
      " [2. 2. 1. 2. 2.]\n",
      " [2. 0. 1. 1. 0.]\n",
      " [0. 0. 0. 1. 0.]] \n",
      "\n",
      "[[0. 0. 0. 0. 0.]\n",
      " [2. 0. 0. 2. 2.]\n",
      " [2. 2. 1. 2. 2.]\n",
      " [2. 0. 1. 1. 0.]\n",
      " [0. 0. 0. 1. 0.]] \n",
      "\n",
      "[[0. 0. 0. 0. 0.]\n",
      " [2. 0. 0. 2. 2.]\n",
      " [2. 2. 1. 2. 2.]\n",
      " [2. 0. 1. 1. 0.]\n",
      " [0. 0. 0. 1. 0.]] \n",
      "\n"
     ]
    }
   ],
   "source": [
    "i=0\n",
    "grid = np.zeros((5,5))\n",
    "possible_moves = []\n",
    "\n",
    "while i<=5:\n",
    "    # Figure out whose turn it is and get their available pieces\n",
    "    piece_list = p1_pieces if i%2 == 0 else p2_pieces\n",
    "    player = 1 if i%2 == 0 else 2\n",
    "    \n",
    "    # Randomly choose a piece\n",
    "    piece_i = random.randint(0, len(piece_list)-1)\n",
    "    piece = piece_list[piece_i]\n",
    "    \n",
    "    #print(piece)\n",
    "    \n",
    "    # Randomly rotate piece and place it's location\n",
    "    layer = fill_out(orient(piece))\n",
    "    \n",
    "    #print(layer, '\\n')\n",
    "    \n",
    "    # Check if it is a legal move\n",
    "    # Are any spots already taken?\n",
    "    if (grid*layer).max() == 0:\n",
    "        grid+=layer\n",
    "        \n",
    "    print(grid, '\\n')\n",
    "    \n",
    "    i+=1"
   ]
  },
  {
   "cell_type": "code",
   "execution_count": null,
   "id": "7c40dfe0",
   "metadata": {},
   "outputs": [],
   "source": []
  },
  {
   "cell_type": "code",
   "execution_count": 27,
   "id": "1c94b425",
   "metadata": {},
   "outputs": [
    {
     "data": {
      "text/plain": [
       "array([[0., 0., 1., 1., 1.],\n",
       "       [0., 0., 0., 2., 2.],\n",
       "       [0., 0., 1., 2., 2.],\n",
       "       [0., 0., 1., 1., 0.],\n",
       "       [0., 0., 0., 0., 0.]])"
      ]
     },
     "execution_count": 27,
     "metadata": {},
     "output_type": "execute_result"
    }
   ],
   "source": [
    "grid"
   ]
  },
  {
   "cell_type": "code",
   "execution_count": 70,
   "id": "18678764",
   "metadata": {},
   "outputs": [
    {
     "data": {
      "text/plain": [
       "array([[0, 0, 0, 0, 0],\n",
       "       [0, 0, 1, 0, 0],\n",
       "       [0, 0, 1, 1, 0],\n",
       "       [0, 0, 0, 0, 0],\n",
       "       [0, 0, 0, 0, 0]])"
      ]
     },
     "execution_count": 70,
     "metadata": {},
     "output_type": "execute_result"
    }
   ],
   "source": [
    "grid = np.array([[0, 0, 0, 0, 0], [0, 0, 1, 0, 0], [0, 0, 1, 1, 0], [0, 0, 0, 0, 0], [0, 0, 0, 0, 0]])\n",
    "grid"
   ]
  },
  {
   "cell_type": "code",
   "execution_count": 71,
   "id": "187c8890",
   "metadata": {},
   "outputs": [
    {
     "data": {
      "text/plain": [
       "array([[0, 1, 0, 0, 0],\n",
       "       [0, 1, 1, 0, 0],\n",
       "       [0, 0, 1, 0, 0],\n",
       "       [0, 0, 0, 0, 0],\n",
       "       [0, 0, 0, 0, 0]])"
      ]
     },
     "execution_count": 71,
     "metadata": {},
     "output_type": "execute_result"
    }
   ],
   "source": [
    "p = np.array([[0, 1, 0, 0, 0], [0, 1, 1, 0, 0], [0, 0, 1, 0, 0], [0, 0, 0, 0, 0], [0, 0, 0, 0, 0]])\n",
    "p"
   ]
  },
  {
   "cell_type": "code",
   "execution_count": 75,
   "id": "f68130cc",
   "metadata": {},
   "outputs": [
    {
     "data": {
      "text/plain": [
       "array([[0, 1, 0, 0, 0],\n",
       "       [0, 1, 2, 0, 0],\n",
       "       [0, 0, 2, 1, 0],\n",
       "       [0, 0, 0, 0, 0],\n",
       "       [0, 0, 0, 0, 0]])"
      ]
     },
     "execution_count": 75,
     "metadata": {},
     "output_type": "execute_result"
    }
   ],
   "source": [
    "res = grid+p\n",
    "res"
   ]
  },
  {
   "cell_type": "code",
   "execution_count": 76,
   "id": "c945d739",
   "metadata": {},
   "outputs": [
    {
     "data": {
      "text/plain": [
       "2"
      ]
     },
     "execution_count": 76,
     "metadata": {},
     "output_type": "execute_result"
    }
   ],
   "source": [
    "res.max()"
   ]
  },
  {
   "cell_type": "code",
   "execution_count": 83,
   "id": "86cee688",
   "metadata": {},
   "outputs": [
    {
     "data": {
      "text/plain": [
       "{0, 1, 2}"
      ]
     },
     "execution_count": 83,
     "metadata": {},
     "output_type": "execute_result"
    }
   ],
   "source": [
    "set(list(res.flatten()))"
   ]
  },
  {
   "cell_type": "code",
   "execution_count": 84,
   "id": "ef1cd80a",
   "metadata": {},
   "outputs": [
    {
     "data": {
      "text/plain": [
       "array([[0, 1, 0, 0, 0],\n",
       "       [0, 1, 2, 0, 0],\n",
       "       [0, 0, 2, 1, 0],\n",
       "       [0, 0, 0, 0, 0],\n",
       "       [0, 0, 0, 0, 0]])"
      ]
     },
     "execution_count": 84,
     "metadata": {},
     "output_type": "execute_result"
    }
   ],
   "source": [
    "res"
   ]
  },
  {
   "cell_type": "code",
   "execution_count": null,
   "id": "2f6d0bd0",
   "metadata": {},
   "outputs": [],
   "source": []
  },
  {
   "cell_type": "code",
   "execution_count": 18,
   "id": "9a8fe8b7",
   "metadata": {},
   "outputs": [
    {
     "data": {
      "text/plain": [
       "{2}"
      ]
     },
     "execution_count": 18,
     "metadata": {},
     "output_type": "execute_result"
    }
   ],
   "source": [
    "{0,1,2,3}.intersection({2})"
   ]
  },
  {
   "cell_type": "code",
   "execution_count": null,
   "id": "a42d0148",
   "metadata": {},
   "outputs": [],
   "source": []
  },
  {
   "cell_type": "code",
   "execution_count": null,
   "id": "7eed2474",
   "metadata": {},
   "outputs": [],
   "source": []
  },
  {
   "cell_type": "code",
   "execution_count": 172,
   "id": "c90605c9",
   "metadata": {},
   "outputs": [],
   "source": [
    "def orient(p):\n",
    "    k = random.randint(1,4)\n",
    "    return np.rot90(p, k=k)\n",
    "\n",
    "\n",
    "def fill_out(p):\n",
    "    rows, cols = p.shape\n",
    "\n",
    "    row_max_start = 5-rows\n",
    "    col_max_start = 5-cols\n",
    "\n",
    "    row_start = random.randint(0, row_max_start)\n",
    "    col_start = random.randint(0, col_max_start)\n",
    "\n",
    "    row_top_pad = row_start\n",
    "    row_bottom_pad = row_max_start - row_start\n",
    "    col_left_pad = col_start\n",
    "    col_right_pad = col_max_start - col_start\n",
    "\n",
    "    return np.pad(p, ((row_top_pad,row_bottom_pad), (col_left_pad,col_right_pad)))"
   ]
  },
  {
   "cell_type": "code",
   "execution_count": null,
   "id": "37426b7b",
   "metadata": {},
   "outputs": [],
   "source": []
  },
  {
   "cell_type": "code",
   "execution_count": 181,
   "id": "dedfc1a9",
   "metadata": {},
   "outputs": [
    {
     "data": {
      "text/plain": [
       "array([[0, 0, 1, 1, 0],\n",
       "       [0, 0, 1, 0, 0],\n",
       "       [0, 0, 1, 0, 0],\n",
       "       [0, 0, 0, 0, 0],\n",
       "       [0, 0, 0, 0, 0]])"
      ]
     },
     "execution_count": 181,
     "metadata": {},
     "output_type": "execute_result"
    }
   ],
   "source": [
    "fill_out(orient(p1_L))"
   ]
  },
  {
   "cell_type": "code",
   "execution_count": null,
   "id": "305e1512",
   "metadata": {},
   "outputs": [],
   "source": []
  },
  {
   "cell_type": "code",
   "execution_count": 162,
   "id": "0bb16c29",
   "metadata": {},
   "outputs": [
    {
     "data": {
      "text/plain": [
       "array([[0, 1],\n",
       "       [0, 1],\n",
       "       [1, 1]])"
      ]
     },
     "execution_count": 162,
     "metadata": {},
     "output_type": "execute_result"
    }
   ],
   "source": [
    "orient(p1_L)"
   ]
  },
  {
   "cell_type": "code",
   "execution_count": null,
   "id": "42d960df",
   "metadata": {},
   "outputs": [],
   "source": []
  },
  {
   "cell_type": "code",
   "execution_count": null,
   "id": "74f4fa3a",
   "metadata": {},
   "outputs": [],
   "source": []
  },
  {
   "cell_type": "code",
   "execution_count": null,
   "id": "609d7c91",
   "metadata": {},
   "outputs": [],
   "source": []
  },
  {
   "cell_type": "code",
   "execution_count": null,
   "id": "2ff04c97",
   "metadata": {},
   "outputs": [],
   "source": []
  },
  {
   "cell_type": "code",
   "execution_count": null,
   "id": "04da78dc",
   "metadata": {},
   "outputs": [],
   "source": []
  },
  {
   "cell_type": "code",
   "execution_count": 142,
   "id": "232dc750",
   "metadata": {},
   "outputs": [
    {
     "data": {
      "text/plain": [
       "array([[0, 0, 0, 0, 0],\n",
       "       [0, 0, 0, 0, 0],\n",
       "       [1, 0, 0, 0, 0],\n",
       "       [1, 1, 1, 0, 0],\n",
       "       [0, 0, 0, 0, 0]])"
      ]
     },
     "execution_count": 142,
     "metadata": {},
     "output_type": "execute_result"
    }
   ],
   "source": [
    "rows, cols = p1_L.shape\n",
    "\n",
    "row_max_start = 5-rows\n",
    "col_max_start = 5-cols\n",
    "\n",
    "row_start = random.randint(0, row_max_start)\n",
    "col_start = random.randint(0, col_max_start)\n",
    "\n",
    "row_top_pad = row_start\n",
    "row_bottom_pad = row_max_start - row_start\n",
    "col_left_pad = col_start\n",
    "col_right_pad = col_max_start - col_start\n",
    "\n",
    "np.pad(p1_L, ((row_top_pad,row_bottom_pad), (col_left_pad,col_right_pad)))"
   ]
  },
  {
   "cell_type": "code",
   "execution_count": null,
   "id": "75537f81",
   "metadata": {},
   "outputs": [],
   "source": []
  },
  {
   "cell_type": "code",
   "execution_count": null,
   "id": "a35599f0",
   "metadata": {},
   "outputs": [],
   "source": []
  },
  {
   "cell_type": "code",
   "execution_count": null,
   "id": "0be44101",
   "metadata": {},
   "outputs": [],
   "source": []
  },
  {
   "cell_type": "code",
   "execution_count": null,
   "id": "20d6d766",
   "metadata": {},
   "outputs": [],
   "source": []
  },
  {
   "cell_type": "code",
   "execution_count": null,
   "id": "fbb2c80e",
   "metadata": {},
   "outputs": [],
   "source": []
  },
  {
   "cell_type": "code",
   "execution_count": null,
   "id": "1e53d5cb",
   "metadata": {},
   "outputs": [],
   "source": []
  },
  {
   "cell_type": "markdown",
   "id": "4f951d63",
   "metadata": {},
   "source": [
    "# Moves"
   ]
  },
  {
   "cell_type": "code",
   "execution_count": 12,
   "id": "95f8cd02",
   "metadata": {},
   "outputs": [
    {
     "data": {
      "text/plain": [
       "array([[1, 1, 1],\n",
       "       [0, 0, 1]])"
      ]
     },
     "execution_count": 12,
     "metadata": {},
     "output_type": "execute_result"
    }
   ],
   "source": [
    "np.rot90(p2, k=2)"
   ]
  },
  {
   "cell_type": "code",
   "execution_count": null,
   "id": "899eea30",
   "metadata": {},
   "outputs": [],
   "source": []
  },
  {
   "cell_type": "code",
   "execution_count": null,
   "id": "ab6ecaca",
   "metadata": {},
   "outputs": [],
   "source": []
  }
 ],
 "metadata": {
  "kernelspec": {
   "display_name": "py310",
   "language": "python",
   "name": "py310"
  },
  "language_info": {
   "codemirror_mode": {
    "name": "ipython",
    "version": 3
   },
   "file_extension": ".py",
   "mimetype": "text/x-python",
   "name": "python",
   "nbconvert_exporter": "python",
   "pygments_lexer": "ipython3",
   "version": "3.10.4"
  }
 },
 "nbformat": 4,
 "nbformat_minor": 5
}
