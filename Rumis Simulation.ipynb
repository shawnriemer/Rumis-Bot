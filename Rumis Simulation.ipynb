{
 "cells": [
  {
   "cell_type": "code",
   "execution_count": 1,
   "id": "e88b895f",
   "metadata": {},
   "outputs": [],
   "source": [
    "import pandas as pd\n",
    "import numpy as np\n",
    "import random"
   ]
  },
  {
   "cell_type": "code",
   "execution_count": null,
   "id": "64d02bfc",
   "metadata": {},
   "outputs": [],
   "source": []
  },
  {
   "cell_type": "markdown",
   "id": "7195833f",
   "metadata": {},
   "source": [
    "# Grid"
   ]
  },
  {
   "cell_type": "code",
   "execution_count": 2,
   "id": "3acdafce",
   "metadata": {},
   "outputs": [
    {
     "data": {
      "text/plain": [
       "array([[0., 0., 0., 0., 0.],\n",
       "       [0., 0., 0., 0., 0.],\n",
       "       [0., 0., 0., 0., 0.],\n",
       "       [0., 0., 0., 0., 0.],\n",
       "       [0., 0., 0., 0., 0.]])"
      ]
     },
     "execution_count": 2,
     "metadata": {},
     "output_type": "execute_result"
    }
   ],
   "source": [
    "grid = np.zeros((5,5))\n",
    "grid"
   ]
  },
  {
   "cell_type": "markdown",
   "id": "c23a00fc",
   "metadata": {},
   "source": [
    "# Pieces"
   ]
  },
  {
   "cell_type": "markdown",
   "id": "7c2f1439",
   "metadata": {},
   "source": [
    "## Player 1"
   ]
  },
  {
   "cell_type": "code",
   "execution_count": 3,
   "id": "f4405e59",
   "metadata": {},
   "outputs": [
    {
     "data": {
      "text/plain": [
       "array([[1, 1, 1, 1]])"
      ]
     },
     "execution_count": 3,
     "metadata": {},
     "output_type": "execute_result"
    }
   ],
   "source": [
    "p1_4x1 = np.array([[1,1,1,1]])\n",
    "p1_4x1"
   ]
  },
  {
   "cell_type": "code",
   "execution_count": 4,
   "id": "d42ba458",
   "metadata": {},
   "outputs": [
    {
     "data": {
      "text/plain": [
       "array([[1, 1, 1]])"
      ]
     },
     "execution_count": 4,
     "metadata": {},
     "output_type": "execute_result"
    }
   ],
   "source": [
    "p1_3x1 = np.array([[1,1,1]])\n",
    "p1_3x1"
   ]
  },
  {
   "cell_type": "code",
   "execution_count": 5,
   "id": "a72fd5d5",
   "metadata": {},
   "outputs": [
    {
     "data": {
      "text/plain": [
       "array([[1, 1]])"
      ]
     },
     "execution_count": 5,
     "metadata": {},
     "output_type": "execute_result"
    }
   ],
   "source": [
    "p1_2x1 = np.array([[1,1]])\n",
    "p1_2x1"
   ]
  },
  {
   "cell_type": "code",
   "execution_count": 6,
   "id": "ac906a3e",
   "metadata": {},
   "outputs": [
    {
     "data": {
      "text/plain": [
       "array([[1, 0, 0],\n",
       "       [1, 1, 1]])"
      ]
     },
     "execution_count": 6,
     "metadata": {},
     "output_type": "execute_result"
    }
   ],
   "source": [
    "p1_L = np.array([[1,0,0], [1,1,1]])\n",
    "p1_L"
   ]
  },
  {
   "cell_type": "code",
   "execution_count": 7,
   "id": "fa4a380d",
   "metadata": {},
   "outputs": [
    {
     "data": {
      "text/plain": [
       "array([[1, 1],\n",
       "       [1, 1]])"
      ]
     },
     "execution_count": 7,
     "metadata": {},
     "output_type": "execute_result"
    }
   ],
   "source": [
    "p1_square = np.array([[1,1], [1,1]])\n",
    "p1_square"
   ]
  },
  {
   "cell_type": "code",
   "execution_count": 8,
   "id": "2ba1d667",
   "metadata": {},
   "outputs": [
    {
     "data": {
      "text/plain": [
       "array([[1, 0],\n",
       "       [1, 1]])"
      ]
     },
     "execution_count": 8,
     "metadata": {},
     "output_type": "execute_result"
    }
   ],
   "source": [
    "p1_corner = np.array([[1,0], [1,1]])\n",
    "p1_corner"
   ]
  },
  {
   "cell_type": "code",
   "execution_count": 9,
   "id": "1e2ced04",
   "metadata": {},
   "outputs": [
    {
     "data": {
      "text/plain": [
       "array([[0, 1, 0],\n",
       "       [1, 1, 1]])"
      ]
     },
     "execution_count": 9,
     "metadata": {},
     "output_type": "execute_result"
    }
   ],
   "source": [
    "p1_pipe = np.array([[0,1,0], [1,1,1]])\n",
    "p1_pipe"
   ]
  },
  {
   "cell_type": "code",
   "execution_count": 10,
   "id": "7c54fb3d",
   "metadata": {},
   "outputs": [
    {
     "data": {
      "text/plain": [
       "array([[0, 1, 1],\n",
       "       [1, 1, 0]])"
      ]
     },
     "execution_count": 10,
     "metadata": {},
     "output_type": "execute_result"
    }
   ],
   "source": [
    "p1_bend = np.array([[0,1,1], [1,1,0]])\n",
    "p1_bend"
   ]
  },
  {
   "cell_type": "code",
   "execution_count": 43,
   "id": "330a9327",
   "metadata": {},
   "outputs": [],
   "source": [
    "p1_pieces = [\n",
    "    p1_4x1,\n",
    "    p1_3x1,\n",
    "    p1_2x1,\n",
    "    p1_L,\n",
    "    p1_square,\n",
    "    p1_corner,\n",
    "    p1_pipe,\n",
    "    p1_bend\n",
    "]"
   ]
  },
  {
   "cell_type": "markdown",
   "id": "f3b81f21",
   "metadata": {},
   "source": [
    "## Player 2"
   ]
  },
  {
   "cell_type": "code",
   "execution_count": 44,
   "id": "f1003050",
   "metadata": {},
   "outputs": [],
   "source": [
    "p2_4x1 = np.array([[2,2,2,2]])\n",
    "p2_3x1 = np.array([[2,2,2]])\n",
    "p2_2x1 = np.array([[2,2]])\n",
    "p2_L = np.array([[2,0,0], [2,2,2]])\n",
    "p2_square = np.array([[2,2], [2,2]])\n",
    "p2_corner = np.array([[2,0], [2,2]])\n",
    "p2_pipe = np.array([[0,2,0], [2,2,2]])\n",
    "p2_bend = np.array([[0,2,2], [2,2,0]])\n",
    "\n",
    "p2_pieces = [\n",
    "    p2_4x1,\n",
    "    p2_3x1,\n",
    "    p2_2x1,\n",
    "    p2_L,\n",
    "    p2_square,\n",
    "    p2_corner,\n",
    "    p2_pipe,\n",
    "    p2_bend\n",
    "]"
   ]
  },
  {
   "cell_type": "markdown",
   "id": "8da22913",
   "metadata": {},
   "source": [
    "# Play"
   ]
  },
  {
   "cell_type": "code",
   "execution_count": 47,
   "id": "dcd4a619",
   "metadata": {},
   "outputs": [],
   "source": [
    "def orient(p):\n",
    "    k = random.randint(1,4)\n",
    "    return np.rot90(p, k=k)\n",
    "\n",
    "\n",
    "def fill_out(p):\n",
    "    rows, cols = p.shape\n",
    "\n",
    "    row_max_start = 5-rows\n",
    "    col_max_start = 5-cols\n",
    "\n",
    "    row_start = random.randint(0, row_max_start)\n",
    "    col_start = random.randint(0, col_max_start)\n",
    "\n",
    "    row_top_pad = row_start\n",
    "    row_bottom_pad = row_max_start - row_start\n",
    "    col_left_pad = col_start\n",
    "    col_right_pad = col_max_start - col_start\n",
    "\n",
    "    return np.pad(p, ((row_top_pad,row_bottom_pad), (col_left_pad,col_right_pad)))\n",
    "\n",
    "\n",
    "def play_move(piece_list, grid):\n",
    "    \n",
    "    attempt_counter = 0\n",
    "    \n",
    "    while attempt_counter < 1000:\n",
    "    \n",
    "        # Randomly choose a piece\n",
    "        piece_i = random.randint(0, len(piece_list)-1)\n",
    "        piece = piece_list[piece_i]\n",
    "\n",
    "        # Randomly rotate piece and place it's location\n",
    "        layer = fill_out(orient(piece))\n",
    "\n",
    "        # Check if it is a legal move\n",
    "        # Are any spots already taken?\n",
    "        if (grid*layer).max() == 0:\n",
    "            grid+=layer\n",
    "            del piece_list[piece_i]\n",
    "            return grid, piece_list\n",
    "\n",
    "        attempt_counter+=1\n",
    "        if attempt_counter==1000:\n",
    "            return grid, piece_list"
   ]
  },
  {
   "cell_type": "code",
   "execution_count": 50,
   "id": "d2eda643",
   "metadata": {},
   "outputs": [
    {
     "name": "stdout",
     "output_type": "stream",
     "text": [
      "[[0. 0. 0. 0. 0.]\n",
      " [1. 0. 0. 0. 0.]\n",
      " [1. 0. 0. 0. 0.]\n",
      " [1. 0. 0. 0. 0.]\n",
      " [1. 0. 0. 0. 0.]] \n",
      "\n",
      "[[0. 0. 0. 0. 0.]\n",
      " [1. 0. 0. 0. 2.]\n",
      " [1. 0. 0. 0. 2.]\n",
      " [1. 0. 0. 0. 2.]\n",
      " [1. 0. 0. 0. 2.]] \n",
      "\n",
      "[[0. 0. 1. 0. 0.]\n",
      " [1. 0. 1. 1. 2.]\n",
      " [1. 0. 0. 0. 2.]\n",
      " [1. 0. 0. 0. 2.]\n",
      " [1. 0. 0. 0. 2.]] \n",
      "\n",
      "[[0. 0. 1. 0. 0.]\n",
      " [1. 0. 1. 1. 2.]\n",
      " [1. 0. 0. 0. 2.]\n",
      " [1. 0. 2. 2. 2.]\n",
      " [1. 0. 2. 2. 2.]] \n",
      "\n",
      "[[0. 0. 1. 0. 0.]\n",
      " [1. 0. 1. 1. 2.]\n",
      " [1. 1. 1. 0. 2.]\n",
      " [1. 1. 2. 2. 2.]\n",
      " [1. 1. 2. 2. 2.]] \n",
      "\n",
      "[[0. 2. 1. 0. 0.]\n",
      " [1. 2. 1. 1. 2.]\n",
      " [1. 1. 1. 0. 2.]\n",
      " [1. 1. 2. 2. 2.]\n",
      " [1. 1. 2. 2. 2.]] \n",
      "\n",
      "[[0. 2. 1. 1. 1.]\n",
      " [1. 2. 1. 1. 2.]\n",
      " [1. 1. 1. 0. 2.]\n",
      " [1. 1. 2. 2. 2.]\n",
      " [1. 1. 2. 2. 2.]] \n",
      "\n",
      "[[0. 2. 1. 1. 1.]\n",
      " [1. 2. 1. 1. 2.]\n",
      " [1. 1. 1. 0. 2.]\n",
      " [1. 1. 2. 2. 2.]\n",
      " [1. 1. 2. 2. 2.]] \n",
      "\n",
      "[[0. 2. 1. 1. 1.]\n",
      " [1. 2. 1. 1. 2.]\n",
      " [1. 1. 1. 0. 2.]\n",
      " [1. 1. 2. 2. 2.]\n",
      " [1. 1. 2. 2. 2.]] \n",
      "\n",
      "[[0. 2. 1. 1. 1.]\n",
      " [1. 2. 1. 1. 2.]\n",
      " [1. 1. 1. 0. 2.]\n",
      " [1. 1. 2. 2. 2.]\n",
      " [1. 1. 2. 2. 2.]] \n",
      "\n",
      "[[0. 2. 1. 1. 1.]\n",
      " [1. 2. 1. 1. 2.]\n",
      " [1. 1. 1. 0. 2.]\n",
      " [1. 1. 2. 2. 2.]\n",
      " [1. 1. 2. 2. 2.]] \n",
      "\n",
      "[[0. 2. 1. 1. 1.]\n",
      " [1. 2. 1. 1. 2.]\n",
      " [1. 1. 1. 0. 2.]\n",
      " [1. 1. 2. 2. 2.]\n",
      " [1. 1. 2. 2. 2.]] \n",
      "\n",
      "[[0. 2. 1. 1. 1.]\n",
      " [1. 2. 1. 1. 2.]\n",
      " [1. 1. 1. 0. 2.]\n",
      " [1. 1. 2. 2. 2.]\n",
      " [1. 1. 2. 2. 2.]] \n",
      "\n",
      "[[0. 2. 1. 1. 1.]\n",
      " [1. 2. 1. 1. 2.]\n",
      " [1. 1. 1. 0. 2.]\n",
      " [1. 1. 2. 2. 2.]\n",
      " [1. 1. 2. 2. 2.]] \n",
      "\n",
      "[[0. 2. 1. 1. 1.]\n",
      " [1. 2. 1. 1. 2.]\n",
      " [1. 1. 1. 0. 2.]\n",
      " [1. 1. 2. 2. 2.]\n",
      " [1. 1. 2. 2. 2.]] \n",
      "\n",
      "[[0. 2. 1. 1. 1.]\n",
      " [1. 2. 1. 1. 2.]\n",
      " [1. 1. 1. 0. 2.]\n",
      " [1. 1. 2. 2. 2.]\n",
      " [1. 1. 2. 2. 2.]] \n",
      "\n",
      "[[0. 2. 1. 1. 1.]\n",
      " [1. 2. 1. 1. 2.]\n",
      " [1. 1. 1. 0. 2.]\n",
      " [1. 1. 2. 2. 2.]\n",
      " [1. 1. 2. 2. 2.]] \n",
      "\n",
      "[[0. 2. 1. 1. 1.]\n",
      " [1. 2. 1. 1. 2.]\n",
      " [1. 1. 1. 0. 2.]\n",
      " [1. 1. 2. 2. 2.]\n",
      " [1. 1. 2. 2. 2.]] \n",
      "\n",
      "[[0. 2. 1. 1. 1.]\n",
      " [1. 2. 1. 1. 2.]\n",
      " [1. 1. 1. 0. 2.]\n",
      " [1. 1. 2. 2. 2.]\n",
      " [1. 1. 2. 2. 2.]] \n",
      "\n",
      "[[0. 2. 1. 1. 1.]\n",
      " [1. 2. 1. 1. 2.]\n",
      " [1. 1. 1. 0. 2.]\n",
      " [1. 1. 2. 2. 2.]\n",
      " [1. 1. 2. 2. 2.]] \n",
      "\n",
      "[[0. 2. 1. 1. 1.]\n",
      " [1. 2. 1. 1. 2.]\n",
      " [1. 1. 1. 0. 2.]\n",
      " [1. 1. 2. 2. 2.]\n",
      " [1. 1. 2. 2. 2.]] \n",
      "\n"
     ]
    }
   ],
   "source": [
    "i=0\n",
    "grid = np.zeros((5,5))\n",
    "p1_pieces = [\n",
    "    p1_4x1, p1_3x1, p1_2x1, p1_L, p1_square, p1_corner, p1_pipe, p1_bend\n",
    "]\n",
    "p2_pieces = [\n",
    "    p2_4x1, p2_3x1, p2_2x1, p2_L, p2_square, p2_corner, p2_pipe, p2_bend\n",
    "]\n",
    "\n",
    "while i<=20:\n",
    "    # Figure out whose turn it is and get their available pieces\n",
    "    piece_list = p1_pieces if i%2 == 0 else p2_pieces\n",
    "    if len(piece_list) > 0:\n",
    "        grid, piece_list = play_move(piece_list, grid)\n",
    "        \n",
    "    print(grid, '\\n')\n",
    "        \n",
    "    i+=1"
   ]
  },
  {
   "cell_type": "code",
   "execution_count": 51,
   "id": "d6544a48",
   "metadata": {},
   "outputs": [
    {
     "data": {
      "text/plain": [
       "array([[0., 2., 1., 1., 1.],\n",
       "       [1., 2., 1., 1., 2.],\n",
       "       [1., 1., 1., 0., 2.],\n",
       "       [1., 1., 2., 2., 2.],\n",
       "       [1., 1., 2., 2., 2.]])"
      ]
     },
     "execution_count": 51,
     "metadata": {},
     "output_type": "execute_result"
    }
   ],
   "source": [
    "grid"
   ]
  },
  {
   "cell_type": "code",
   "execution_count": null,
   "id": "0ae3afbd",
   "metadata": {},
   "outputs": [],
   "source": []
  },
  {
   "cell_type": "code",
   "execution_count": null,
   "id": "ed31c198",
   "metadata": {},
   "outputs": [],
   "source": []
  },
  {
   "cell_type": "code",
   "execution_count": null,
   "id": "e7d4749f",
   "metadata": {},
   "outputs": [],
   "source": []
  },
  {
   "cell_type": "code",
   "execution_count": null,
   "id": "f6e569f1",
   "metadata": {},
   "outputs": [],
   "source": []
  },
  {
   "cell_type": "code",
   "execution_count": 31,
   "id": "06074307",
   "metadata": {},
   "outputs": [
    {
     "name": "stdout",
     "output_type": "stream",
     "text": [
      "[[0. 0. 0. 0. 0.]\n",
      " [0. 0. 0. 0. 0.]\n",
      " [0. 0. 1. 0. 0.]\n",
      " [0. 0. 1. 1. 0.]\n",
      " [0. 0. 0. 1. 0.]] \n",
      "\n",
      "[[0. 0. 0. 0. 0.]\n",
      " [2. 0. 0. 0. 0.]\n",
      " [2. 2. 1. 0. 0.]\n",
      " [2. 0. 1. 1. 0.]\n",
      " [0. 0. 0. 1. 0.]] \n",
      "\n",
      "[[0. 0. 0. 0. 0.]\n",
      " [2. 0. 0. 0. 0.]\n",
      " [2. 2. 1. 0. 0.]\n",
      " [2. 0. 1. 1. 0.]\n",
      " [0. 0. 0. 1. 0.]] \n",
      "\n",
      "[[0. 0. 0. 0. 0.]\n",
      " [2. 0. 0. 2. 2.]\n",
      " [2. 2. 1. 2. 2.]\n",
      " [2. 0. 1. 1. 0.]\n",
      " [0. 0. 0. 1. 0.]] \n",
      "\n",
      "[[0. 0. 0. 0. 0.]\n",
      " [2. 0. 0. 2. 2.]\n",
      " [2. 2. 1. 2. 2.]\n",
      " [2. 0. 1. 1. 0.]\n",
      " [0. 0. 0. 1. 0.]] \n",
      "\n",
      "[[0. 0. 0. 0. 0.]\n",
      " [2. 0. 0. 2. 2.]\n",
      " [2. 2. 1. 2. 2.]\n",
      " [2. 0. 1. 1. 0.]\n",
      " [0. 0. 0. 1. 0.]] \n",
      "\n"
     ]
    }
   ],
   "source": [
    "i=0\n",
    "grid = np.zeros((5,5))\n",
    "possible_moves = []\n",
    "\n",
    "while i<=5:\n",
    "    # Figure out whose turn it is and get their available pieces\n",
    "    piece_list = p1_pieces if i%2 == 0 else p2_pieces\n",
    "    player = 1 if i%2 == 0 else 2\n",
    "    \n",
    "    # Randomly choose a piece\n",
    "    piece_i = random.randint(0, len(piece_list)-1)\n",
    "    piece = piece_list[piece_i]\n",
    "    \n",
    "    #print(piece)\n",
    "    \n",
    "    # Randomly rotate piece and place it's location\n",
    "    layer = fill_out(orient(piece))\n",
    "    \n",
    "    #print(layer, '\\n')\n",
    "    \n",
    "    # Check if it is a legal move\n",
    "    # Are any spots already taken?\n",
    "    if (grid*layer).max() == 0:\n",
    "        grid+=layer\n",
    "        \n",
    "    print(grid, '\\n')\n",
    "    \n",
    "    i+=1"
   ]
  },
  {
   "cell_type": "code",
   "execution_count": null,
   "id": "b3146f5f",
   "metadata": {},
   "outputs": [],
   "source": []
  },
  {
   "cell_type": "code",
   "execution_count": 27,
   "id": "82337406",
   "metadata": {},
   "outputs": [
    {
     "data": {
      "text/plain": [
       "array([[0., 0., 1., 1., 1.],\n",
       "       [0., 0., 0., 2., 2.],\n",
       "       [0., 0., 1., 2., 2.],\n",
       "       [0., 0., 1., 1., 0.],\n",
       "       [0., 0., 0., 0., 0.]])"
      ]
     },
     "execution_count": 27,
     "metadata": {},
     "output_type": "execute_result"
    }
   ],
   "source": [
    "grid"
   ]
  },
  {
   "cell_type": "code",
   "execution_count": 70,
   "id": "2532bd13",
   "metadata": {},
   "outputs": [
    {
     "data": {
      "text/plain": [
       "array([[0, 0, 0, 0, 0],\n",
       "       [0, 0, 1, 0, 0],\n",
       "       [0, 0, 1, 1, 0],\n",
       "       [0, 0, 0, 0, 0],\n",
       "       [0, 0, 0, 0, 0]])"
      ]
     },
     "execution_count": 70,
     "metadata": {},
     "output_type": "execute_result"
    }
   ],
   "source": [
    "grid = np.array([[0, 0, 0, 0, 0], [0, 0, 1, 0, 0], [0, 0, 1, 1, 0], [0, 0, 0, 0, 0], [0, 0, 0, 0, 0]])\n",
    "grid"
   ]
  },
  {
   "cell_type": "code",
   "execution_count": 71,
   "id": "43d308d6",
   "metadata": {},
   "outputs": [
    {
     "data": {
      "text/plain": [
       "array([[0, 1, 0, 0, 0],\n",
       "       [0, 1, 1, 0, 0],\n",
       "       [0, 0, 1, 0, 0],\n",
       "       [0, 0, 0, 0, 0],\n",
       "       [0, 0, 0, 0, 0]])"
      ]
     },
     "execution_count": 71,
     "metadata": {},
     "output_type": "execute_result"
    }
   ],
   "source": [
    "p = np.array([[0, 1, 0, 0, 0], [0, 1, 1, 0, 0], [0, 0, 1, 0, 0], [0, 0, 0, 0, 0], [0, 0, 0, 0, 0]])\n",
    "p"
   ]
  },
  {
   "cell_type": "code",
   "execution_count": 75,
   "id": "d989a29d",
   "metadata": {},
   "outputs": [
    {
     "data": {
      "text/plain": [
       "array([[0, 1, 0, 0, 0],\n",
       "       [0, 1, 2, 0, 0],\n",
       "       [0, 0, 2, 1, 0],\n",
       "       [0, 0, 0, 0, 0],\n",
       "       [0, 0, 0, 0, 0]])"
      ]
     },
     "execution_count": 75,
     "metadata": {},
     "output_type": "execute_result"
    }
   ],
   "source": [
    "res = grid+p\n",
    "res"
   ]
  },
  {
   "cell_type": "code",
   "execution_count": 76,
   "id": "3ec3e943",
   "metadata": {},
   "outputs": [
    {
     "data": {
      "text/plain": [
       "2"
      ]
     },
     "execution_count": 76,
     "metadata": {},
     "output_type": "execute_result"
    }
   ],
   "source": [
    "res.max()"
   ]
  },
  {
   "cell_type": "code",
   "execution_count": 83,
   "id": "e0ceb9a9",
   "metadata": {},
   "outputs": [
    {
     "data": {
      "text/plain": [
       "{0, 1, 2}"
      ]
     },
     "execution_count": 83,
     "metadata": {},
     "output_type": "execute_result"
    }
   ],
   "source": [
    "set(list(res.flatten()))"
   ]
  },
  {
   "cell_type": "code",
   "execution_count": 84,
   "id": "8a99f840",
   "metadata": {},
   "outputs": [
    {
     "data": {
      "text/plain": [
       "array([[0, 1, 0, 0, 0],\n",
       "       [0, 1, 2, 0, 0],\n",
       "       [0, 0, 2, 1, 0],\n",
       "       [0, 0, 0, 0, 0],\n",
       "       [0, 0, 0, 0, 0]])"
      ]
     },
     "execution_count": 84,
     "metadata": {},
     "output_type": "execute_result"
    }
   ],
   "source": [
    "res"
   ]
  },
  {
   "cell_type": "code",
   "execution_count": null,
   "id": "54e40ecd",
   "metadata": {},
   "outputs": [],
   "source": []
  },
  {
   "cell_type": "code",
   "execution_count": 18,
   "id": "27a2015a",
   "metadata": {},
   "outputs": [
    {
     "data": {
      "text/plain": [
       "{2}"
      ]
     },
     "execution_count": 18,
     "metadata": {},
     "output_type": "execute_result"
    }
   ],
   "source": [
    "{0,1,2,3}.intersection({2})"
   ]
  },
  {
   "cell_type": "code",
   "execution_count": null,
   "id": "b56ac6fb",
   "metadata": {},
   "outputs": [],
   "source": []
  },
  {
   "cell_type": "code",
   "execution_count": null,
   "id": "c93e2a52",
   "metadata": {},
   "outputs": [],
   "source": []
  },
  {
   "cell_type": "code",
   "execution_count": 172,
   "id": "e1facc8d",
   "metadata": {},
   "outputs": [],
   "source": [
    "def orient(p):\n",
    "    k = random.randint(1,4)\n",
    "    return np.rot90(p, k=k)\n",
    "\n",
    "\n",
    "def fill_out(p):\n",
    "    rows, cols = p.shape\n",
    "\n",
    "    row_max_start = 5-rows\n",
    "    col_max_start = 5-cols\n",
    "\n",
    "    row_start = random.randint(0, row_max_start)\n",
    "    col_start = random.randint(0, col_max_start)\n",
    "\n",
    "    row_top_pad = row_start\n",
    "    row_bottom_pad = row_max_start - row_start\n",
    "    col_left_pad = col_start\n",
    "    col_right_pad = col_max_start - col_start\n",
    "\n",
    "    return np.pad(p, ((row_top_pad,row_bottom_pad), (col_left_pad,col_right_pad)))"
   ]
  },
  {
   "cell_type": "code",
   "execution_count": null,
   "id": "dedda638",
   "metadata": {},
   "outputs": [],
   "source": []
  },
  {
   "cell_type": "code",
   "execution_count": 181,
   "id": "4667e6f4",
   "metadata": {},
   "outputs": [
    {
     "data": {
      "text/plain": [
       "array([[0, 0, 1, 1, 0],\n",
       "       [0, 0, 1, 0, 0],\n",
       "       [0, 0, 1, 0, 0],\n",
       "       [0, 0, 0, 0, 0],\n",
       "       [0, 0, 0, 0, 0]])"
      ]
     },
     "execution_count": 181,
     "metadata": {},
     "output_type": "execute_result"
    }
   ],
   "source": [
    "fill_out(orient(p1_L))"
   ]
  },
  {
   "cell_type": "code",
   "execution_count": null,
   "id": "626cec05",
   "metadata": {},
   "outputs": [],
   "source": []
  },
  {
   "cell_type": "code",
   "execution_count": 162,
   "id": "068b55f2",
   "metadata": {},
   "outputs": [
    {
     "data": {
      "text/plain": [
       "array([[0, 1],\n",
       "       [0, 1],\n",
       "       [1, 1]])"
      ]
     },
     "execution_count": 162,
     "metadata": {},
     "output_type": "execute_result"
    }
   ],
   "source": [
    "orient(p1_L)"
   ]
  },
  {
   "cell_type": "code",
   "execution_count": null,
   "id": "9f7fea67",
   "metadata": {},
   "outputs": [],
   "source": []
  },
  {
   "cell_type": "code",
   "execution_count": null,
   "id": "5aff1590",
   "metadata": {},
   "outputs": [],
   "source": []
  },
  {
   "cell_type": "code",
   "execution_count": null,
   "id": "5d3e3436",
   "metadata": {},
   "outputs": [],
   "source": []
  },
  {
   "cell_type": "code",
   "execution_count": null,
   "id": "06b331b1",
   "metadata": {},
   "outputs": [],
   "source": []
  },
  {
   "cell_type": "code",
   "execution_count": null,
   "id": "0fab19c5",
   "metadata": {},
   "outputs": [],
   "source": []
  },
  {
   "cell_type": "code",
   "execution_count": 142,
   "id": "c15cc9f3",
   "metadata": {},
   "outputs": [
    {
     "data": {
      "text/plain": [
       "array([[0, 0, 0, 0, 0],\n",
       "       [0, 0, 0, 0, 0],\n",
       "       [1, 0, 0, 0, 0],\n",
       "       [1, 1, 1, 0, 0],\n",
       "       [0, 0, 0, 0, 0]])"
      ]
     },
     "execution_count": 142,
     "metadata": {},
     "output_type": "execute_result"
    }
   ],
   "source": [
    "rows, cols = p1_L.shape\n",
    "\n",
    "row_max_start = 5-rows\n",
    "col_max_start = 5-cols\n",
    "\n",
    "row_start = random.randint(0, row_max_start)\n",
    "col_start = random.randint(0, col_max_start)\n",
    "\n",
    "row_top_pad = row_start\n",
    "row_bottom_pad = row_max_start - row_start\n",
    "col_left_pad = col_start\n",
    "col_right_pad = col_max_start - col_start\n",
    "\n",
    "np.pad(p1_L, ((row_top_pad,row_bottom_pad), (col_left_pad,col_right_pad)))"
   ]
  },
  {
   "cell_type": "code",
   "execution_count": null,
   "id": "504f5dad",
   "metadata": {},
   "outputs": [],
   "source": []
  },
  {
   "cell_type": "code",
   "execution_count": null,
   "id": "8473adec",
   "metadata": {},
   "outputs": [],
   "source": []
  },
  {
   "cell_type": "code",
   "execution_count": null,
   "id": "22bd8196",
   "metadata": {},
   "outputs": [],
   "source": []
  },
  {
   "cell_type": "code",
   "execution_count": null,
   "id": "e390b2cc",
   "metadata": {},
   "outputs": [],
   "source": []
  },
  {
   "cell_type": "code",
   "execution_count": null,
   "id": "5653873a",
   "metadata": {},
   "outputs": [],
   "source": []
  },
  {
   "cell_type": "code",
   "execution_count": null,
   "id": "793f65d3",
   "metadata": {},
   "outputs": [],
   "source": []
  },
  {
   "cell_type": "markdown",
   "id": "dd9b23b1",
   "metadata": {},
   "source": [
    "# Moves"
   ]
  },
  {
   "cell_type": "code",
   "execution_count": 12,
   "id": "0d8c5d2f",
   "metadata": {},
   "outputs": [
    {
     "data": {
      "text/plain": [
       "array([[1, 1, 1],\n",
       "       [0, 0, 1]])"
      ]
     },
     "execution_count": 12,
     "metadata": {},
     "output_type": "execute_result"
    }
   ],
   "source": [
    "np.rot90(p2, k=2)"
   ]
  },
  {
   "cell_type": "code",
   "execution_count": null,
   "id": "b47cd949",
   "metadata": {},
   "outputs": [],
   "source": []
  },
  {
   "cell_type": "code",
   "execution_count": null,
   "id": "337a0981",
   "metadata": {},
   "outputs": [],
   "source": []
  }
 ],
 "metadata": {
  "kernelspec": {
   "display_name": "py310",
   "language": "python",
   "name": "py310"
  },
  "language_info": {
   "codemirror_mode": {
    "name": "ipython",
    "version": 3
   },
   "file_extension": ".py",
   "mimetype": "text/x-python",
   "name": "python",
   "nbconvert_exporter": "python",
   "pygments_lexer": "ipython3",
   "version": "3.10.4"
  }
 },
 "nbformat": 4,
 "nbformat_minor": 5
}
