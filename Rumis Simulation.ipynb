{
 "cells": [
  {
   "cell_type": "code",
   "execution_count": 1,
   "id": "1a104daf",
   "metadata": {},
   "outputs": [],
   "source": [
    "import pandas as pd\n",
    "import numpy as np\n",
    "import random"
   ]
  },
  {
   "cell_type": "code",
   "execution_count": null,
   "id": "7b5b9e1d",
   "metadata": {},
   "outputs": [],
   "source": []
  },
  {
   "cell_type": "markdown",
   "id": "dd5dd0ec",
   "metadata": {},
   "source": [
    "# Grid"
   ]
  },
  {
   "cell_type": "code",
   "execution_count": 2,
   "id": "98fa5cf2",
   "metadata": {},
   "outputs": [
    {
     "data": {
      "text/plain": [
       "array([[0., 0., 0., 0., 0.],\n",
       "       [0., 0., 0., 0., 0.],\n",
       "       [0., 0., 0., 0., 0.],\n",
       "       [0., 0., 0., 0., 0.],\n",
       "       [0., 0., 0., 0., 0.]])"
      ]
     },
     "execution_count": 2,
     "metadata": {},
     "output_type": "execute_result"
    }
   ],
   "source": [
    "grid = np.zeros((5,5))\n",
    "grid"
   ]
  },
  {
   "cell_type": "markdown",
   "id": "4b1e955c",
   "metadata": {},
   "source": [
    "# Pieces"
   ]
  },
  {
   "cell_type": "markdown",
   "id": "f4612ca1",
   "metadata": {},
   "source": [
    "## Player 1"
   ]
  },
  {
   "cell_type": "code",
   "execution_count": 3,
   "id": "241c354a",
   "metadata": {},
   "outputs": [
    {
     "data": {
      "text/plain": [
       "array([[1, 1, 1, 1]])"
      ]
     },
     "execution_count": 3,
     "metadata": {},
     "output_type": "execute_result"
    }
   ],
   "source": [
    "p1_4x1 = np.array([[1,1,1,1]])\n",
    "p1_4x1"
   ]
  },
  {
   "cell_type": "code",
   "execution_count": 4,
   "id": "0c54bb61",
   "metadata": {},
   "outputs": [
    {
     "data": {
      "text/plain": [
       "array([[1, 1, 1]])"
      ]
     },
     "execution_count": 4,
     "metadata": {},
     "output_type": "execute_result"
    }
   ],
   "source": [
    "p1_3x1 = np.array([[1,1,1]])\n",
    "p1_3x1"
   ]
  },
  {
   "cell_type": "code",
   "execution_count": 5,
   "id": "2285874e",
   "metadata": {},
   "outputs": [
    {
     "data": {
      "text/plain": [
       "array([[1, 1]])"
      ]
     },
     "execution_count": 5,
     "metadata": {},
     "output_type": "execute_result"
    }
   ],
   "source": [
    "p1_2x1 = np.array([[1,1]])\n",
    "p1_2x1"
   ]
  },
  {
   "cell_type": "code",
   "execution_count": 6,
   "id": "a77e554f",
   "metadata": {},
   "outputs": [
    {
     "data": {
      "text/plain": [
       "array([[1, 0, 0],\n",
       "       [1, 1, 1]])"
      ]
     },
     "execution_count": 6,
     "metadata": {},
     "output_type": "execute_result"
    }
   ],
   "source": [
    "p1_L = np.array([[1,0,0], [1,1,1]])\n",
    "p1_L"
   ]
  },
  {
   "cell_type": "code",
   "execution_count": 7,
   "id": "7ec7bbca",
   "metadata": {},
   "outputs": [
    {
     "data": {
      "text/plain": [
       "array([[1, 1],\n",
       "       [1, 1]])"
      ]
     },
     "execution_count": 7,
     "metadata": {},
     "output_type": "execute_result"
    }
   ],
   "source": [
    "p1_square = np.array([[1,1], [1,1]])\n",
    "p1_square"
   ]
  },
  {
   "cell_type": "code",
   "execution_count": 8,
   "id": "b8f10d95",
   "metadata": {},
   "outputs": [
    {
     "data": {
      "text/plain": [
       "array([[1, 0],\n",
       "       [1, 1]])"
      ]
     },
     "execution_count": 8,
     "metadata": {},
     "output_type": "execute_result"
    }
   ],
   "source": [
    "p1_corner = np.array([[1,0], [1,1]])\n",
    "p1_corner"
   ]
  },
  {
   "cell_type": "code",
   "execution_count": 9,
   "id": "93357aea",
   "metadata": {},
   "outputs": [
    {
     "data": {
      "text/plain": [
       "array([[0, 1, 0],\n",
       "       [1, 1, 1]])"
      ]
     },
     "execution_count": 9,
     "metadata": {},
     "output_type": "execute_result"
    }
   ],
   "source": [
    "p1_pipe = np.array([[0,1,0], [1,1,1]])\n",
    "p1_pipe"
   ]
  },
  {
   "cell_type": "code",
   "execution_count": 10,
   "id": "192581f7",
   "metadata": {},
   "outputs": [
    {
     "data": {
      "text/plain": [
       "array([[0, 1, 1],\n",
       "       [1, 1, 0]])"
      ]
     },
     "execution_count": 10,
     "metadata": {},
     "output_type": "execute_result"
    }
   ],
   "source": [
    "p1_bend = np.array([[0,1,1], [1,1,0]])\n",
    "p1_bend"
   ]
  },
  {
   "cell_type": "code",
   "execution_count": 43,
   "id": "f5cf4e56",
   "metadata": {},
   "outputs": [],
   "source": [
    "p1_pieces = [\n",
    "    p1_4x1,\n",
    "    p1_3x1,\n",
    "    p1_2x1,\n",
    "    p1_L,\n",
    "    p1_square,\n",
    "    p1_corner,\n",
    "    p1_pipe,\n",
    "    p1_bend\n",
    "]"
   ]
  },
  {
   "cell_type": "markdown",
   "id": "da1c5318",
   "metadata": {},
   "source": [
    "## Player 2"
   ]
  },
  {
   "cell_type": "code",
   "execution_count": 44,
   "id": "8ba2fa53",
   "metadata": {},
   "outputs": [],
   "source": [
    "p2_4x1 = np.array([[2,2,2,2]])\n",
    "p2_3x1 = np.array([[2,2,2]])\n",
    "p2_2x1 = np.array([[2,2]])\n",
    "p2_L = np.array([[2,0,0], [2,2,2]])\n",
    "p2_square = np.array([[2,2], [2,2]])\n",
    "p2_corner = np.array([[2,0], [2,2]])\n",
    "p2_pipe = np.array([[0,2,0], [2,2,2]])\n",
    "p2_bend = np.array([[0,2,2], [2,2,0]])\n",
    "\n",
    "p2_pieces = [\n",
    "    p2_4x1,\n",
    "    p2_3x1,\n",
    "    p2_2x1,\n",
    "    p2_L,\n",
    "    p2_square,\n",
    "    p2_corner,\n",
    "    p2_pipe,\n",
    "    p2_bend\n",
    "]"
   ]
  },
  {
   "cell_type": "markdown",
   "id": "f3085356",
   "metadata": {},
   "source": [
    "# Play"
   ]
  },
  {
   "cell_type": "code",
   "execution_count": 117,
   "id": "0612fff7",
   "metadata": {},
   "outputs": [],
   "source": [
    "def orient(p):\n",
    "    k = random.randint(1,4)\n",
    "    return np.rot90(p, k=k)\n",
    "\n",
    "\n",
    "def fill_out(p):\n",
    "    rows, cols = p.shape\n",
    "\n",
    "    row_max_start = 5-rows\n",
    "    col_max_start = 5-cols\n",
    "\n",
    "    row_start = random.randint(0, row_max_start)\n",
    "    col_start = random.randint(0, col_max_start)\n",
    "\n",
    "    row_top_pad = row_start\n",
    "    row_bottom_pad = row_max_start - row_start\n",
    "    col_left_pad = col_start\n",
    "    col_right_pad = col_max_start - col_start\n",
    "\n",
    "    return np.pad(p, ((row_top_pad,row_bottom_pad), (col_left_pad,col_right_pad)))\n",
    "\n",
    "\n",
    "def check_adjacent(grid, layer, player):\n",
    "    adjacent = np.zeros((5,5))\n",
    "    \n",
    "    for i, row in enumerate(grid):\n",
    "        for j, val in enumerate(row):\n",
    "            if val == player:\n",
    "                # 4 is hardcoded\n",
    "                if (j>0) and (grid[i, j-1] == 0):\n",
    "                    adjacent[i, j-1] = player\n",
    "                if (j<4)  and (grid[i, j+1]) == 0:\n",
    "                    adjacent[i, j+1] = player\n",
    "                if (i>0) and (grid[i-1, j]) == 0:\n",
    "                    adjacent[i-1, j] = player\n",
    "                if (i<4) and (grid[i+1, j]) == 0:\n",
    "                    adjacent[i+1, j] = player\n",
    "                    \n",
    "    adjacent_bool = False if (adjacent*layer).max() == 0 else True\n",
    "    return adjacent, adjacent_bool\n",
    "\n",
    "\n",
    "def play_move(piece_list, grid, player, start):\n",
    "    \n",
    "    attempt_counter = 0\n",
    "    \n",
    "    while attempt_counter < 1000:\n",
    "    \n",
    "        # Randomly choose a piece\n",
    "        piece_i = random.randint(0, len(piece_list)-1)\n",
    "        piece = piece_list[piece_i]\n",
    "\n",
    "        # Randomly rotate piece and place it's location\n",
    "        layer = fill_out(orient(piece))\n",
    "\n",
    "        # Check if it is a legal move\n",
    "        \n",
    "        # Are any spots already taken?\n",
    "        spot_bool = False\n",
    "        if (grid*layer).max() == 0:\n",
    "            spot_bool = True\n",
    "\n",
    "        # Check if adjacent to an existing piece (unless it's the first turn)\n",
    "        if (spot_bool is True) and (start is False):\n",
    "            adjacent, adjacent_bool = check_adjacent(grid, layer, player)\n",
    "        else:\n",
    "            adjacent_bool = True\n",
    "            adjacent = ''\n",
    "        \n",
    "        # Make that play if it is legal\n",
    "        if (spot_bool is True) and (adjacent_bool is True):\n",
    "            grid+=layer\n",
    "            del piece_list[piece_i]\n",
    "            # print('Adjacent:\\n', adjacent, '\\n')\n",
    "            print(f'# of attempts: {attempt_counter}')\n",
    "            print(grid, '\\n')\n",
    "            return grid, piece_list\n",
    "        \n",
    "        # Keep track of attempts\n",
    "        attempt_counter+=1\n",
    "        if attempt_counter==1000:\n",
    "            print('Maxed out attempts\\n')\n",
    "            return grid, piece_list"
   ]
  },
  {
   "cell_type": "code",
   "execution_count": 118,
   "id": "cc92df11",
   "metadata": {},
   "outputs": [
    {
     "name": "stdout",
     "output_type": "stream",
     "text": [
      "# of attempts: 0\n",
      "[[0. 0. 0. 0. 0.]\n",
      " [0. 0. 0. 0. 0.]\n",
      " [0. 0. 0. 0. 0.]\n",
      " [0. 1. 1. 1. 0.]\n",
      " [0. 0. 0. 1. 0.]] \n",
      "\n",
      "# of attempts: 0\n",
      "[[2. 0. 0. 0. 0.]\n",
      " [2. 0. 0. 0. 0.]\n",
      " [2. 0. 0. 0. 0.]\n",
      " [0. 1. 1. 1. 0.]\n",
      " [0. 0. 0. 1. 0.]] \n",
      "\n",
      "# of attempts: 6\n",
      "[[2. 0. 0. 0. 0.]\n",
      " [2. 0. 0. 1. 1.]\n",
      " [2. 0. 1. 1. 0.]\n",
      " [0. 1. 1. 1. 0.]\n",
      " [0. 0. 0. 1. 0.]] \n",
      "\n",
      "# of attempts: 18\n",
      "[[2. 0. 0. 0. 0.]\n",
      " [2. 2. 2. 1. 1.]\n",
      " [2. 0. 1. 1. 0.]\n",
      " [0. 1. 1. 1. 0.]\n",
      " [0. 0. 0. 1. 0.]] \n",
      "\n",
      "# of attempts: 25\n",
      "[[2. 0. 1. 1. 0.]\n",
      " [2. 2. 2. 1. 1.]\n",
      " [2. 0. 1. 1. 0.]\n",
      " [0. 1. 1. 1. 0.]\n",
      " [0. 0. 0. 1. 0.]] \n",
      "\n",
      "# of attempts: 30\n",
      "[[2. 0. 1. 1. 0.]\n",
      " [2. 2. 2. 1. 1.]\n",
      " [2. 0. 1. 1. 0.]\n",
      " [2. 1. 1. 1. 0.]\n",
      " [2. 2. 0. 1. 0.]] \n",
      "\n",
      "# of attempts: 38\n",
      "[[2. 0. 1. 1. 0.]\n",
      " [2. 2. 2. 1. 1.]\n",
      " [2. 0. 1. 1. 1.]\n",
      " [2. 1. 1. 1. 1.]\n",
      " [2. 2. 0. 1. 1.]] \n",
      "\n",
      "Maxed out attempts\n",
      "\n",
      "Maxed out attempts\n",
      "\n",
      "Maxed out attempts\n",
      "\n",
      "Maxed out attempts\n",
      "\n",
      "Maxed out attempts\n",
      "\n",
      "Maxed out attempts\n",
      "\n",
      "Maxed out attempts\n",
      "\n",
      "Maxed out attempts\n",
      "\n",
      "Maxed out attempts\n",
      "\n",
      "Maxed out attempts\n",
      "\n",
      "Maxed out attempts\n",
      "\n",
      "Maxed out attempts\n",
      "\n",
      "Maxed out attempts\n",
      "\n",
      "Maxed out attempts\n",
      "\n"
     ]
    }
   ],
   "source": [
    "i=0\n",
    "grid = np.zeros((5,5))\n",
    "p1_pieces = [p1_4x1, p1_3x1, p1_2x1, p1_L, p1_square, p1_corner, p1_pipe, p1_bend]\n",
    "p2_pieces = [p2_4x1, p2_3x1, p2_2x1, p2_L, p2_square, p2_corner, p2_pipe, p2_bend]\n",
    "\n",
    "while i<=20:\n",
    "    # Figure out whose turn it is and get their available pieces\n",
    "    piece_list = p1_pieces if i%2 == 0 else p2_pieces\n",
    "    player = 1 if i%2 == 0 else 2\n",
    "    \n",
    "    # Indicate if it's the player's first turn\n",
    "    start = True if i<=1 else False\n",
    "    \n",
    "    # Play a piece\n",
    "    if len(piece_list) > 0:\n",
    "        grid, piece_list = play_move(piece_list, grid, player, start)\n",
    "        \n",
    "    i+=1"
   ]
  },
  {
   "cell_type": "code",
   "execution_count": 51,
   "id": "e539f07c",
   "metadata": {},
   "outputs": [
    {
     "data": {
      "text/plain": [
       "array([[0., 2., 1., 1., 1.],\n",
       "       [1., 2., 1., 1., 2.],\n",
       "       [1., 1., 1., 0., 2.],\n",
       "       [1., 1., 2., 2., 2.],\n",
       "       [1., 1., 2., 2., 2.]])"
      ]
     },
     "execution_count": 51,
     "metadata": {},
     "output_type": "execute_result"
    }
   ],
   "source": [
    "grid"
   ]
  },
  {
   "cell_type": "code",
   "execution_count": 53,
   "id": "c2fc0683",
   "metadata": {},
   "outputs": [
    {
     "data": {
      "text/plain": [
       "array([[0, 1, 0, 0, 0],\n",
       "       [0, 1, 0, 0, 0],\n",
       "       [0, 1, 1, 0, 0],\n",
       "       [0, 0, 0, 0, 0],\n",
       "       [0, 0, 0, 0, 0]])"
      ]
     },
     "execution_count": 53,
     "metadata": {},
     "output_type": "execute_result"
    }
   ],
   "source": [
    "t = np.array([[0,1,0,0,0], [0,1,0,0,0], [0,1,1,0,0], [0,0,0,0,0], [0,0,0,0,0]])\n",
    "t"
   ]
  },
  {
   "cell_type": "code",
   "execution_count": 54,
   "id": "2e2a9df2",
   "metadata": {},
   "outputs": [
    {
     "data": {
      "text/plain": [
       "array([0, 1, 0, 0, 0])"
      ]
     },
     "execution_count": 54,
     "metadata": {},
     "output_type": "execute_result"
    }
   ],
   "source": [
    "t[0]"
   ]
  },
  {
   "cell_type": "code",
   "execution_count": 76,
   "id": "3b0cc57d",
   "metadata": {},
   "outputs": [],
   "source": [
    "adjacent = np.zeros((5,5))\n",
    "\n",
    "for i, row in enumerate(t):\n",
    "    for j, val in enumerate(row):\n",
    "        if val == 1:\n",
    "            # 4 is hardcoded\n",
    "            if (j>0) and (t[i, j-1] == 0):\n",
    "                adjacent[i, j-1] = 1\n",
    "            if (j<4)  and (t[i, j+1]) == 0:\n",
    "                adjacent[i, j+1] = 1\n",
    "            if (i>0) and (t[i-1, j]) == 0:\n",
    "                adjacent[i-1, j] = 1\n",
    "            if (i<4) and (t[i+1, j]) == 0:\n",
    "                adjacent[i+1, j] = 1"
   ]
  },
  {
   "cell_type": "code",
   "execution_count": 77,
   "id": "9c27b388",
   "metadata": {},
   "outputs": [
    {
     "data": {
      "text/plain": [
       "array([[1., 0., 1., 0., 0.],\n",
       "       [1., 0., 1., 0., 0.],\n",
       "       [1., 0., 0., 1., 0.],\n",
       "       [0., 1., 1., 0., 0.],\n",
       "       [0., 0., 0., 0., 0.]])"
      ]
     },
     "execution_count": 77,
     "metadata": {},
     "output_type": "execute_result"
    }
   ],
   "source": [
    "adjacent"
   ]
  },
  {
   "cell_type": "code",
   "execution_count": 90,
   "id": "f761f7ac",
   "metadata": {},
   "outputs": [
    {
     "data": {
      "text/plain": [
       "2.0"
      ]
     },
     "execution_count": 90,
     "metadata": {},
     "output_type": "execute_result"
    }
   ],
   "source": [
    "grid.max()"
   ]
  },
  {
   "cell_type": "code",
   "execution_count": null,
   "id": "f90e575c",
   "metadata": {},
   "outputs": [],
   "source": []
  },
  {
   "cell_type": "code",
   "execution_count": null,
   "id": "95dc4a82",
   "metadata": {},
   "outputs": [],
   "source": []
  },
  {
   "cell_type": "code",
   "execution_count": null,
   "id": "a9e6f444",
   "metadata": {},
   "outputs": [],
   "source": []
  },
  {
   "cell_type": "code",
   "execution_count": 31,
   "id": "c1235470",
   "metadata": {},
   "outputs": [
    {
     "name": "stdout",
     "output_type": "stream",
     "text": [
      "[[0. 0. 0. 0. 0.]\n",
      " [0. 0. 0. 0. 0.]\n",
      " [0. 0. 1. 0. 0.]\n",
      " [0. 0. 1. 1. 0.]\n",
      " [0. 0. 0. 1. 0.]] \n",
      "\n",
      "[[0. 0. 0. 0. 0.]\n",
      " [2. 0. 0. 0. 0.]\n",
      " [2. 2. 1. 0. 0.]\n",
      " [2. 0. 1. 1. 0.]\n",
      " [0. 0. 0. 1. 0.]] \n",
      "\n",
      "[[0. 0. 0. 0. 0.]\n",
      " [2. 0. 0. 0. 0.]\n",
      " [2. 2. 1. 0. 0.]\n",
      " [2. 0. 1. 1. 0.]\n",
      " [0. 0. 0. 1. 0.]] \n",
      "\n",
      "[[0. 0. 0. 0. 0.]\n",
      " [2. 0. 0. 2. 2.]\n",
      " [2. 2. 1. 2. 2.]\n",
      " [2. 0. 1. 1. 0.]\n",
      " [0. 0. 0. 1. 0.]] \n",
      "\n",
      "[[0. 0. 0. 0. 0.]\n",
      " [2. 0. 0. 2. 2.]\n",
      " [2. 2. 1. 2. 2.]\n",
      " [2. 0. 1. 1. 0.]\n",
      " [0. 0. 0. 1. 0.]] \n",
      "\n",
      "[[0. 0. 0. 0. 0.]\n",
      " [2. 0. 0. 2. 2.]\n",
      " [2. 2. 1. 2. 2.]\n",
      " [2. 0. 1. 1. 0.]\n",
      " [0. 0. 0. 1. 0.]] \n",
      "\n"
     ]
    }
   ],
   "source": [
    "i=0\n",
    "grid = np.zeros((5,5))\n",
    "possible_moves = []\n",
    "\n",
    "while i<=5:\n",
    "    # Figure out whose turn it is and get their available pieces\n",
    "    piece_list = p1_pieces if i%2 == 0 else p2_pieces\n",
    "    player = 1 if i%2 == 0 else 2\n",
    "    \n",
    "    # Randomly choose a piece\n",
    "    piece_i = random.randint(0, len(piece_list)-1)\n",
    "    piece = piece_list[piece_i]\n",
    "    \n",
    "    #print(piece)\n",
    "    \n",
    "    # Randomly rotate piece and place it's location\n",
    "    layer = fill_out(orient(piece))\n",
    "    \n",
    "    #print(layer, '\\n')\n",
    "    \n",
    "    # Check if it is a legal move\n",
    "    # Are any spots already taken?\n",
    "    if (grid*layer).max() == 0:\n",
    "        grid+=layer\n",
    "        \n",
    "    print(grid, '\\n')\n",
    "    \n",
    "    i+=1"
   ]
  },
  {
   "cell_type": "code",
   "execution_count": null,
   "id": "9f85ec95",
   "metadata": {},
   "outputs": [],
   "source": []
  },
  {
   "cell_type": "code",
   "execution_count": 27,
   "id": "79877dd8",
   "metadata": {},
   "outputs": [
    {
     "data": {
      "text/plain": [
       "array([[0., 0., 1., 1., 1.],\n",
       "       [0., 0., 0., 2., 2.],\n",
       "       [0., 0., 1., 2., 2.],\n",
       "       [0., 0., 1., 1., 0.],\n",
       "       [0., 0., 0., 0., 0.]])"
      ]
     },
     "execution_count": 27,
     "metadata": {},
     "output_type": "execute_result"
    }
   ],
   "source": [
    "grid"
   ]
  },
  {
   "cell_type": "code",
   "execution_count": 70,
   "id": "01a4ec6a",
   "metadata": {},
   "outputs": [
    {
     "data": {
      "text/plain": [
       "array([[0, 0, 0, 0, 0],\n",
       "       [0, 0, 1, 0, 0],\n",
       "       [0, 0, 1, 1, 0],\n",
       "       [0, 0, 0, 0, 0],\n",
       "       [0, 0, 0, 0, 0]])"
      ]
     },
     "execution_count": 70,
     "metadata": {},
     "output_type": "execute_result"
    }
   ],
   "source": [
    "grid = np.array([[0, 0, 0, 0, 0], [0, 0, 1, 0, 0], [0, 0, 1, 1, 0], [0, 0, 0, 0, 0], [0, 0, 0, 0, 0]])\n",
    "grid"
   ]
  },
  {
   "cell_type": "code",
   "execution_count": 71,
   "id": "4468c119",
   "metadata": {},
   "outputs": [
    {
     "data": {
      "text/plain": [
       "array([[0, 1, 0, 0, 0],\n",
       "       [0, 1, 1, 0, 0],\n",
       "       [0, 0, 1, 0, 0],\n",
       "       [0, 0, 0, 0, 0],\n",
       "       [0, 0, 0, 0, 0]])"
      ]
     },
     "execution_count": 71,
     "metadata": {},
     "output_type": "execute_result"
    }
   ],
   "source": [
    "p = np.array([[0, 1, 0, 0, 0], [0, 1, 1, 0, 0], [0, 0, 1, 0, 0], [0, 0, 0, 0, 0], [0, 0, 0, 0, 0]])\n",
    "p"
   ]
  },
  {
   "cell_type": "code",
   "execution_count": 75,
   "id": "f2bc021b",
   "metadata": {},
   "outputs": [
    {
     "data": {
      "text/plain": [
       "array([[0, 1, 0, 0, 0],\n",
       "       [0, 1, 2, 0, 0],\n",
       "       [0, 0, 2, 1, 0],\n",
       "       [0, 0, 0, 0, 0],\n",
       "       [0, 0, 0, 0, 0]])"
      ]
     },
     "execution_count": 75,
     "metadata": {},
     "output_type": "execute_result"
    }
   ],
   "source": [
    "res = grid+p\n",
    "res"
   ]
  },
  {
   "cell_type": "code",
   "execution_count": 76,
   "id": "955dede0",
   "metadata": {},
   "outputs": [
    {
     "data": {
      "text/plain": [
       "2"
      ]
     },
     "execution_count": 76,
     "metadata": {},
     "output_type": "execute_result"
    }
   ],
   "source": [
    "res.max()"
   ]
  },
  {
   "cell_type": "code",
   "execution_count": 83,
   "id": "e2a15ff6",
   "metadata": {},
   "outputs": [
    {
     "data": {
      "text/plain": [
       "{0, 1, 2}"
      ]
     },
     "execution_count": 83,
     "metadata": {},
     "output_type": "execute_result"
    }
   ],
   "source": [
    "set(list(res.flatten()))"
   ]
  },
  {
   "cell_type": "code",
   "execution_count": 84,
   "id": "0bcbafa4",
   "metadata": {},
   "outputs": [
    {
     "data": {
      "text/plain": [
       "array([[0, 1, 0, 0, 0],\n",
       "       [0, 1, 2, 0, 0],\n",
       "       [0, 0, 2, 1, 0],\n",
       "       [0, 0, 0, 0, 0],\n",
       "       [0, 0, 0, 0, 0]])"
      ]
     },
     "execution_count": 84,
     "metadata": {},
     "output_type": "execute_result"
    }
   ],
   "source": [
    "res"
   ]
  },
  {
   "cell_type": "code",
   "execution_count": null,
   "id": "4e018cd2",
   "metadata": {},
   "outputs": [],
   "source": []
  },
  {
   "cell_type": "code",
   "execution_count": 18,
   "id": "2c13e508",
   "metadata": {},
   "outputs": [
    {
     "data": {
      "text/plain": [
       "{2}"
      ]
     },
     "execution_count": 18,
     "metadata": {},
     "output_type": "execute_result"
    }
   ],
   "source": [
    "{0,1,2,3}.intersection({2})"
   ]
  },
  {
   "cell_type": "code",
   "execution_count": null,
   "id": "b4332975",
   "metadata": {},
   "outputs": [],
   "source": []
  },
  {
   "cell_type": "code",
   "execution_count": null,
   "id": "431543bf",
   "metadata": {},
   "outputs": [],
   "source": []
  },
  {
   "cell_type": "code",
   "execution_count": 172,
   "id": "af224f0a",
   "metadata": {},
   "outputs": [],
   "source": [
    "def orient(p):\n",
    "    k = random.randint(1,4)\n",
    "    return np.rot90(p, k=k)\n",
    "\n",
    "\n",
    "def fill_out(p):\n",
    "    rows, cols = p.shape\n",
    "\n",
    "    row_max_start = 5-rows\n",
    "    col_max_start = 5-cols\n",
    "\n",
    "    row_start = random.randint(0, row_max_start)\n",
    "    col_start = random.randint(0, col_max_start)\n",
    "\n",
    "    row_top_pad = row_start\n",
    "    row_bottom_pad = row_max_start - row_start\n",
    "    col_left_pad = col_start\n",
    "    col_right_pad = col_max_start - col_start\n",
    "\n",
    "    return np.pad(p, ((row_top_pad,row_bottom_pad), (col_left_pad,col_right_pad)))"
   ]
  },
  {
   "cell_type": "code",
   "execution_count": null,
   "id": "bd2fa09e",
   "metadata": {},
   "outputs": [],
   "source": []
  },
  {
   "cell_type": "code",
   "execution_count": 181,
   "id": "72e98773",
   "metadata": {},
   "outputs": [
    {
     "data": {
      "text/plain": [
       "array([[0, 0, 1, 1, 0],\n",
       "       [0, 0, 1, 0, 0],\n",
       "       [0, 0, 1, 0, 0],\n",
       "       [0, 0, 0, 0, 0],\n",
       "       [0, 0, 0, 0, 0]])"
      ]
     },
     "execution_count": 181,
     "metadata": {},
     "output_type": "execute_result"
    }
   ],
   "source": [
    "fill_out(orient(p1_L))"
   ]
  },
  {
   "cell_type": "code",
   "execution_count": null,
   "id": "05199fb4",
   "metadata": {},
   "outputs": [],
   "source": []
  },
  {
   "cell_type": "code",
   "execution_count": 162,
   "id": "7041b05d",
   "metadata": {},
   "outputs": [
    {
     "data": {
      "text/plain": [
       "array([[0, 1],\n",
       "       [0, 1],\n",
       "       [1, 1]])"
      ]
     },
     "execution_count": 162,
     "metadata": {},
     "output_type": "execute_result"
    }
   ],
   "source": [
    "orient(p1_L)"
   ]
  },
  {
   "cell_type": "code",
   "execution_count": null,
   "id": "e05ebe83",
   "metadata": {},
   "outputs": [],
   "source": []
  },
  {
   "cell_type": "code",
   "execution_count": null,
   "id": "3b04888f",
   "metadata": {},
   "outputs": [],
   "source": []
  },
  {
   "cell_type": "code",
   "execution_count": null,
   "id": "0fdc008d",
   "metadata": {},
   "outputs": [],
   "source": []
  },
  {
   "cell_type": "code",
   "execution_count": null,
   "id": "0b63040f",
   "metadata": {},
   "outputs": [],
   "source": []
  },
  {
   "cell_type": "code",
   "execution_count": null,
   "id": "c33ba0b9",
   "metadata": {},
   "outputs": [],
   "source": []
  },
  {
   "cell_type": "code",
   "execution_count": 142,
   "id": "2225b66e",
   "metadata": {},
   "outputs": [
    {
     "data": {
      "text/plain": [
       "array([[0, 0, 0, 0, 0],\n",
       "       [0, 0, 0, 0, 0],\n",
       "       [1, 0, 0, 0, 0],\n",
       "       [1, 1, 1, 0, 0],\n",
       "       [0, 0, 0, 0, 0]])"
      ]
     },
     "execution_count": 142,
     "metadata": {},
     "output_type": "execute_result"
    }
   ],
   "source": [
    "rows, cols = p1_L.shape\n",
    "\n",
    "row_max_start = 5-rows\n",
    "col_max_start = 5-cols\n",
    "\n",
    "row_start = random.randint(0, row_max_start)\n",
    "col_start = random.randint(0, col_max_start)\n",
    "\n",
    "row_top_pad = row_start\n",
    "row_bottom_pad = row_max_start - row_start\n",
    "col_left_pad = col_start\n",
    "col_right_pad = col_max_start - col_start\n",
    "\n",
    "np.pad(p1_L, ((row_top_pad,row_bottom_pad), (col_left_pad,col_right_pad)))"
   ]
  },
  {
   "cell_type": "code",
   "execution_count": null,
   "id": "cab6f0a4",
   "metadata": {},
   "outputs": [],
   "source": []
  },
  {
   "cell_type": "code",
   "execution_count": null,
   "id": "d3277d82",
   "metadata": {},
   "outputs": [],
   "source": []
  },
  {
   "cell_type": "code",
   "execution_count": null,
   "id": "321a2593",
   "metadata": {},
   "outputs": [],
   "source": []
  },
  {
   "cell_type": "code",
   "execution_count": null,
   "id": "b1c8a979",
   "metadata": {},
   "outputs": [],
   "source": []
  },
  {
   "cell_type": "code",
   "execution_count": null,
   "id": "e91526d3",
   "metadata": {},
   "outputs": [],
   "source": []
  },
  {
   "cell_type": "code",
   "execution_count": null,
   "id": "1b3ef30a",
   "metadata": {},
   "outputs": [],
   "source": []
  },
  {
   "cell_type": "markdown",
   "id": "cab11aea",
   "metadata": {},
   "source": [
    "# Moves"
   ]
  },
  {
   "cell_type": "code",
   "execution_count": 12,
   "id": "19642198",
   "metadata": {},
   "outputs": [
    {
     "data": {
      "text/plain": [
       "array([[1, 1, 1],\n",
       "       [0, 0, 1]])"
      ]
     },
     "execution_count": 12,
     "metadata": {},
     "output_type": "execute_result"
    }
   ],
   "source": [
    "np.rot90(p2, k=2)"
   ]
  },
  {
   "cell_type": "code",
   "execution_count": null,
   "id": "d2d4f6af",
   "metadata": {},
   "outputs": [],
   "source": []
  },
  {
   "cell_type": "code",
   "execution_count": null,
   "id": "85c40cd2",
   "metadata": {},
   "outputs": [],
   "source": []
  }
 ],
 "metadata": {
  "kernelspec": {
   "display_name": "py310",
   "language": "python",
   "name": "py310"
  },
  "language_info": {
   "codemirror_mode": {
    "name": "ipython",
    "version": 3
   },
   "file_extension": ".py",
   "mimetype": "text/x-python",
   "name": "python",
   "nbconvert_exporter": "python",
   "pygments_lexer": "ipython3",
   "version": "3.10.4"
  }
 },
 "nbformat": 4,
 "nbformat_minor": 5
}
